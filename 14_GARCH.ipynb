{
  "nbformat": 4,
  "nbformat_minor": 0,
  "metadata": {
    "kernelspec": {
      "display_name": "Python 3",
      "language": "python",
      "name": "python3"
    },
    "language_info": {
      "codemirror_mode": {
        "name": "ipython",
        "version": 3
      },
      "file_extension": ".py",
      "mimetype": "text/x-python",
      "name": "python",
      "nbconvert_exporter": "python",
      "pygments_lexer": "ipython3",
      "version": "3.6.7"
    },
    "colab": {
      "provenance": []
    }
  },
  "cells": [
    {
      "cell_type": "markdown",
      "metadata": {
        "id": "H6ky1yBPGUtP"
      },
      "source": [
        "## Importing the relevant packages"
      ]
    },
    {
      "cell_type": "code",
      "metadata": {
        "id": "0fadmMxSGUtQ",
        "colab": {
          "base_uri": "https://localhost:8080/"
        },
        "outputId": "6a26448e-a6c3-4611-e276-15acf8d4d43c"
      },
      "source": [
        "import pandas as pd\n",
        "import numpy as np\n",
        "import matplotlib.pyplot as plt\n",
        "import statsmodels.graphics.tsaplots as sgt\n",
        "import statsmodels.tsa.stattools as sts\n",
        "from statsmodels.tsa.arima_model import ARIMA\n",
        "from scipy.stats.distributions import chi2\n",
        "!pip install arch\n",
        "from arch import arch_model\n",
        "from math import sqrt\n",
        "import seaborn as sns\n",
        "sns.set()"
      ],
      "execution_count": 1,
      "outputs": [
        {
          "output_type": "stream",
          "name": "stdout",
          "text": [
            "Collecting arch\n",
            "  Downloading arch-6.1.0-cp310-cp310-manylinux_2_17_x86_64.manylinux2014_x86_64.whl (916 kB)\n",
            "\u001b[2K     \u001b[90m━━━━━━━━━━━━━━━━━━━━━━━━━━━━━━━━━━━━━━━\u001b[0m \u001b[32m916.4/916.4 kB\u001b[0m \u001b[31m6.4 MB/s\u001b[0m eta \u001b[36m0:00:00\u001b[0m\n",
            "\u001b[?25hRequirement already satisfied: numpy>=1.19 in /usr/local/lib/python3.10/dist-packages (from arch) (1.23.5)\n",
            "Requirement already satisfied: scipy>=1.5 in /usr/local/lib/python3.10/dist-packages (from arch) (1.10.1)\n",
            "Requirement already satisfied: pandas>=1.1 in /usr/local/lib/python3.10/dist-packages (from arch) (1.5.3)\n",
            "Requirement already satisfied: statsmodels>=0.12 in /usr/local/lib/python3.10/dist-packages (from arch) (0.14.0)\n",
            "Requirement already satisfied: python-dateutil>=2.8.1 in /usr/local/lib/python3.10/dist-packages (from pandas>=1.1->arch) (2.8.2)\n",
            "Requirement already satisfied: pytz>=2020.1 in /usr/local/lib/python3.10/dist-packages (from pandas>=1.1->arch) (2023.3)\n",
            "Requirement already satisfied: patsy>=0.5.2 in /usr/local/lib/python3.10/dist-packages (from statsmodels>=0.12->arch) (0.5.3)\n",
            "Requirement already satisfied: packaging>=21.3 in /usr/local/lib/python3.10/dist-packages (from statsmodels>=0.12->arch) (23.1)\n",
            "Requirement already satisfied: six in /usr/local/lib/python3.10/dist-packages (from patsy>=0.5.2->statsmodels>=0.12->arch) (1.16.0)\n",
            "Installing collected packages: arch\n",
            "Successfully installed arch-6.1.0\n"
          ]
        }
      ]
    },
    {
      "cell_type": "markdown",
      "metadata": {
        "id": "TPV0OEOQGUtU"
      },
      "source": [
        "## Importing the Data and Pre-processing"
      ]
    },
    {
      "cell_type": "code",
      "metadata": {
        "id": "HTZKgtRBGUtV"
      },
      "source": [
        "raw_csv_data = pd.read_csv(\"INDEX2023.csv\")\n",
        "df_comp=raw_csv_data.copy()\n",
        "df_comp.date = pd.to_datetime(df_comp.date, dayfirst = True)\n",
        "df_comp.set_index(\"date\", inplace=True)\n",
        "df_comp=df_comp.asfreq('b')\n",
        "df_comp=df_comp.fillna(method='ffill')"
      ],
      "execution_count": 2,
      "outputs": []
    },
    {
      "cell_type": "code",
      "metadata": {
        "id": "rBc9mI_jGUtY"
      },
      "source": [
        "df_comp['market_value']=df_comp.ftse"
      ],
      "execution_count": 3,
      "outputs": []
    },
    {
      "cell_type": "code",
      "metadata": {
        "id": "eYugtOXmGUta"
      },
      "source": [
        "del df_comp['spx']\n",
        "del df_comp['dax']\n",
        "del df_comp['ftse']\n",
        "del df_comp['nikkei']\n",
        "size = int(len(df_comp)*0.8)\n",
        "df, df_test = df_comp.iloc[:size], df_comp.iloc[size:]"
      ],
      "execution_count": 4,
      "outputs": []
    },
    {
      "cell_type": "code",
      "metadata": {
        "id": "lViF6xhaGUtd"
      },
      "source": [
        "import warnings\n",
        "warnings.filterwarnings(\"ignore\")"
      ],
      "execution_count": 5,
      "outputs": []
    },
    {
      "cell_type": "markdown",
      "metadata": {
        "id": "TB3Ph9XOGUtg"
      },
      "source": [
        "## The LLR Test"
      ]
    },
    {
      "cell_type": "code",
      "metadata": {
        "id": "LILWlaIFGUth"
      },
      "source": [
        "def LLR_test(mod_1, mod_2, DF = 1):\n",
        "    L1 = mod_1.llf\n",
        "    L2 = mod_2.llf\n",
        "    LR = (2*(L2-L1))\n",
        "    p = chi2.sf(LR, DF).round(3)\n",
        "    return p"
      ],
      "execution_count": 6,
      "outputs": []
    },
    {
      "cell_type": "markdown",
      "metadata": {
        "id": "EMHXzlyqGUtk"
      },
      "source": [
        "## Creating Returns"
      ]
    },
    {
      "cell_type": "code",
      "metadata": {
        "scrolled": true,
        "id": "kzs47GVQGUtk"
      },
      "source": [
        "# suponiendo de que no existe autocorrelacion\n",
        "df['returns'] = df.market_value.pct_change(1)*100"
      ],
      "execution_count": 8,
      "outputs": []
    },
    {
      "cell_type": "code",
      "metadata": {
        "colab": {
          "base_uri": "https://localhost:8080/",
          "height": 455
        },
        "id": "m4jB74dlcpeV",
        "outputId": "f9922a8f-4b50-432c-82d9-40ed6895d84b"
      },
      "source": [
        "df"
      ],
      "execution_count": 9,
      "outputs": [
        {
          "output_type": "execute_result",
          "data": {
            "text/plain": [
              "            market_value   returns\n",
              "date                              \n",
              "1994-01-10   3440.600098       NaN\n",
              "1994-01-11   3413.800049 -0.778935\n",
              "1994-01-12   3372.000000 -1.224443\n",
              "1994-01-13   3360.000000 -0.355872\n",
              "1994-01-14   3400.600098  1.208336\n",
              "...                  ...       ...\n",
              "2017-08-24   7407.100098  0.330501\n",
              "2017-08-25   7401.500000 -0.075604\n",
              "2017-08-28   7401.500000  0.000000\n",
              "2017-08-29   7337.399902 -0.866042\n",
              "2017-08-30   7365.299805  0.380242\n",
              "\n",
              "[6168 rows x 2 columns]"
            ],
            "text/html": [
              "\n",
              "  <div id=\"df-afbafc7e-58b7-44af-831d-c5898ee6efc0\" class=\"colab-df-container\">\n",
              "    <div>\n",
              "<style scoped>\n",
              "    .dataframe tbody tr th:only-of-type {\n",
              "        vertical-align: middle;\n",
              "    }\n",
              "\n",
              "    .dataframe tbody tr th {\n",
              "        vertical-align: top;\n",
              "    }\n",
              "\n",
              "    .dataframe thead th {\n",
              "        text-align: right;\n",
              "    }\n",
              "</style>\n",
              "<table border=\"1\" class=\"dataframe\">\n",
              "  <thead>\n",
              "    <tr style=\"text-align: right;\">\n",
              "      <th></th>\n",
              "      <th>market_value</th>\n",
              "      <th>returns</th>\n",
              "    </tr>\n",
              "    <tr>\n",
              "      <th>date</th>\n",
              "      <th></th>\n",
              "      <th></th>\n",
              "    </tr>\n",
              "  </thead>\n",
              "  <tbody>\n",
              "    <tr>\n",
              "      <th>1994-01-10</th>\n",
              "      <td>3440.600098</td>\n",
              "      <td>NaN</td>\n",
              "    </tr>\n",
              "    <tr>\n",
              "      <th>1994-01-11</th>\n",
              "      <td>3413.800049</td>\n",
              "      <td>-0.778935</td>\n",
              "    </tr>\n",
              "    <tr>\n",
              "      <th>1994-01-12</th>\n",
              "      <td>3372.000000</td>\n",
              "      <td>-1.224443</td>\n",
              "    </tr>\n",
              "    <tr>\n",
              "      <th>1994-01-13</th>\n",
              "      <td>3360.000000</td>\n",
              "      <td>-0.355872</td>\n",
              "    </tr>\n",
              "    <tr>\n",
              "      <th>1994-01-14</th>\n",
              "      <td>3400.600098</td>\n",
              "      <td>1.208336</td>\n",
              "    </tr>\n",
              "    <tr>\n",
              "      <th>...</th>\n",
              "      <td>...</td>\n",
              "      <td>...</td>\n",
              "    </tr>\n",
              "    <tr>\n",
              "      <th>2017-08-24</th>\n",
              "      <td>7407.100098</td>\n",
              "      <td>0.330501</td>\n",
              "    </tr>\n",
              "    <tr>\n",
              "      <th>2017-08-25</th>\n",
              "      <td>7401.500000</td>\n",
              "      <td>-0.075604</td>\n",
              "    </tr>\n",
              "    <tr>\n",
              "      <th>2017-08-28</th>\n",
              "      <td>7401.500000</td>\n",
              "      <td>0.000000</td>\n",
              "    </tr>\n",
              "    <tr>\n",
              "      <th>2017-08-29</th>\n",
              "      <td>7337.399902</td>\n",
              "      <td>-0.866042</td>\n",
              "    </tr>\n",
              "    <tr>\n",
              "      <th>2017-08-30</th>\n",
              "      <td>7365.299805</td>\n",
              "      <td>0.380242</td>\n",
              "    </tr>\n",
              "  </tbody>\n",
              "</table>\n",
              "<p>6168 rows × 2 columns</p>\n",
              "</div>\n",
              "    <div class=\"colab-df-buttons\">\n",
              "\n",
              "  <div class=\"colab-df-container\">\n",
              "    <button class=\"colab-df-convert\" onclick=\"convertToInteractive('df-afbafc7e-58b7-44af-831d-c5898ee6efc0')\"\n",
              "            title=\"Convert this dataframe to an interactive table.\"\n",
              "            style=\"display:none;\">\n",
              "\n",
              "  <svg xmlns=\"http://www.w3.org/2000/svg\" height=\"24px\" viewBox=\"0 -960 960 960\">\n",
              "    <path d=\"M120-120v-720h720v720H120Zm60-500h600v-160H180v160Zm220 220h160v-160H400v160Zm0 220h160v-160H400v160ZM180-400h160v-160H180v160Zm440 0h160v-160H620v160ZM180-180h160v-160H180v160Zm440 0h160v-160H620v160Z\"/>\n",
              "  </svg>\n",
              "    </button>\n",
              "\n",
              "  <style>\n",
              "    .colab-df-container {\n",
              "      display:flex;\n",
              "      gap: 12px;\n",
              "    }\n",
              "\n",
              "    .colab-df-convert {\n",
              "      background-color: #E8F0FE;\n",
              "      border: none;\n",
              "      border-radius: 50%;\n",
              "      cursor: pointer;\n",
              "      display: none;\n",
              "      fill: #1967D2;\n",
              "      height: 32px;\n",
              "      padding: 0 0 0 0;\n",
              "      width: 32px;\n",
              "    }\n",
              "\n",
              "    .colab-df-convert:hover {\n",
              "      background-color: #E2EBFA;\n",
              "      box-shadow: 0px 1px 2px rgba(60, 64, 67, 0.3), 0px 1px 3px 1px rgba(60, 64, 67, 0.15);\n",
              "      fill: #174EA6;\n",
              "    }\n",
              "\n",
              "    .colab-df-buttons div {\n",
              "      margin-bottom: 4px;\n",
              "    }\n",
              "\n",
              "    [theme=dark] .colab-df-convert {\n",
              "      background-color: #3B4455;\n",
              "      fill: #D2E3FC;\n",
              "    }\n",
              "\n",
              "    [theme=dark] .colab-df-convert:hover {\n",
              "      background-color: #434B5C;\n",
              "      box-shadow: 0px 1px 3px 1px rgba(0, 0, 0, 0.15);\n",
              "      filter: drop-shadow(0px 1px 2px rgba(0, 0, 0, 0.3));\n",
              "      fill: #FFFFFF;\n",
              "    }\n",
              "  </style>\n",
              "\n",
              "    <script>\n",
              "      const buttonEl =\n",
              "        document.querySelector('#df-afbafc7e-58b7-44af-831d-c5898ee6efc0 button.colab-df-convert');\n",
              "      buttonEl.style.display =\n",
              "        google.colab.kernel.accessAllowed ? 'block' : 'none';\n",
              "\n",
              "      async function convertToInteractive(key) {\n",
              "        const element = document.querySelector('#df-afbafc7e-58b7-44af-831d-c5898ee6efc0');\n",
              "        const dataTable =\n",
              "          await google.colab.kernel.invokeFunction('convertToInteractive',\n",
              "                                                    [key], {});\n",
              "        if (!dataTable) return;\n",
              "\n",
              "        const docLinkHtml = 'Like what you see? Visit the ' +\n",
              "          '<a target=\"_blank\" href=https://colab.research.google.com/notebooks/data_table.ipynb>data table notebook</a>'\n",
              "          + ' to learn more about interactive tables.';\n",
              "        element.innerHTML = '';\n",
              "        dataTable['output_type'] = 'display_data';\n",
              "        await google.colab.output.renderOutput(dataTable, element);\n",
              "        const docLink = document.createElement('div');\n",
              "        docLink.innerHTML = docLinkHtml;\n",
              "        element.appendChild(docLink);\n",
              "      }\n",
              "    </script>\n",
              "  </div>\n",
              "\n",
              "\n",
              "<div id=\"df-30a717aa-d8df-4624-8143-dde91116cc3d\">\n",
              "  <button class=\"colab-df-quickchart\" onclick=\"quickchart('df-30a717aa-d8df-4624-8143-dde91116cc3d')\"\n",
              "            title=\"Suggest charts.\"\n",
              "            style=\"display:none;\">\n",
              "\n",
              "<svg xmlns=\"http://www.w3.org/2000/svg\" height=\"24px\"viewBox=\"0 0 24 24\"\n",
              "     width=\"24px\">\n",
              "    <g>\n",
              "        <path d=\"M19 3H5c-1.1 0-2 .9-2 2v14c0 1.1.9 2 2 2h14c1.1 0 2-.9 2-2V5c0-1.1-.9-2-2-2zM9 17H7v-7h2v7zm4 0h-2V7h2v10zm4 0h-2v-4h2v4z\"/>\n",
              "    </g>\n",
              "</svg>\n",
              "  </button>\n",
              "\n",
              "<style>\n",
              "  .colab-df-quickchart {\n",
              "      --bg-color: #E8F0FE;\n",
              "      --fill-color: #1967D2;\n",
              "      --hover-bg-color: #E2EBFA;\n",
              "      --hover-fill-color: #174EA6;\n",
              "      --disabled-fill-color: #AAA;\n",
              "      --disabled-bg-color: #DDD;\n",
              "  }\n",
              "\n",
              "  [theme=dark] .colab-df-quickchart {\n",
              "      --bg-color: #3B4455;\n",
              "      --fill-color: #D2E3FC;\n",
              "      --hover-bg-color: #434B5C;\n",
              "      --hover-fill-color: #FFFFFF;\n",
              "      --disabled-bg-color: #3B4455;\n",
              "      --disabled-fill-color: #666;\n",
              "  }\n",
              "\n",
              "  .colab-df-quickchart {\n",
              "    background-color: var(--bg-color);\n",
              "    border: none;\n",
              "    border-radius: 50%;\n",
              "    cursor: pointer;\n",
              "    display: none;\n",
              "    fill: var(--fill-color);\n",
              "    height: 32px;\n",
              "    padding: 0;\n",
              "    width: 32px;\n",
              "  }\n",
              "\n",
              "  .colab-df-quickchart:hover {\n",
              "    background-color: var(--hover-bg-color);\n",
              "    box-shadow: 0 1px 2px rgba(60, 64, 67, 0.3), 0 1px 3px 1px rgba(60, 64, 67, 0.15);\n",
              "    fill: var(--button-hover-fill-color);\n",
              "  }\n",
              "\n",
              "  .colab-df-quickchart-complete:disabled,\n",
              "  .colab-df-quickchart-complete:disabled:hover {\n",
              "    background-color: var(--disabled-bg-color);\n",
              "    fill: var(--disabled-fill-color);\n",
              "    box-shadow: none;\n",
              "  }\n",
              "\n",
              "  .colab-df-spinner {\n",
              "    border: 2px solid var(--fill-color);\n",
              "    border-color: transparent;\n",
              "    border-bottom-color: var(--fill-color);\n",
              "    animation:\n",
              "      spin 1s steps(1) infinite;\n",
              "  }\n",
              "\n",
              "  @keyframes spin {\n",
              "    0% {\n",
              "      border-color: transparent;\n",
              "      border-bottom-color: var(--fill-color);\n",
              "      border-left-color: var(--fill-color);\n",
              "    }\n",
              "    20% {\n",
              "      border-color: transparent;\n",
              "      border-left-color: var(--fill-color);\n",
              "      border-top-color: var(--fill-color);\n",
              "    }\n",
              "    30% {\n",
              "      border-color: transparent;\n",
              "      border-left-color: var(--fill-color);\n",
              "      border-top-color: var(--fill-color);\n",
              "      border-right-color: var(--fill-color);\n",
              "    }\n",
              "    40% {\n",
              "      border-color: transparent;\n",
              "      border-right-color: var(--fill-color);\n",
              "      border-top-color: var(--fill-color);\n",
              "    }\n",
              "    60% {\n",
              "      border-color: transparent;\n",
              "      border-right-color: var(--fill-color);\n",
              "    }\n",
              "    80% {\n",
              "      border-color: transparent;\n",
              "      border-right-color: var(--fill-color);\n",
              "      border-bottom-color: var(--fill-color);\n",
              "    }\n",
              "    90% {\n",
              "      border-color: transparent;\n",
              "      border-bottom-color: var(--fill-color);\n",
              "    }\n",
              "  }\n",
              "</style>\n",
              "\n",
              "  <script>\n",
              "    async function quickchart(key) {\n",
              "      const quickchartButtonEl =\n",
              "        document.querySelector('#' + key + ' button');\n",
              "      quickchartButtonEl.disabled = true;  // To prevent multiple clicks.\n",
              "      quickchartButtonEl.classList.add('colab-df-spinner');\n",
              "      try {\n",
              "        const charts = await google.colab.kernel.invokeFunction(\n",
              "            'suggestCharts', [key], {});\n",
              "      } catch (error) {\n",
              "        console.error('Error during call to suggestCharts:', error);\n",
              "      }\n",
              "      quickchartButtonEl.classList.remove('colab-df-spinner');\n",
              "      quickchartButtonEl.classList.add('colab-df-quickchart-complete');\n",
              "    }\n",
              "    (() => {\n",
              "      let quickchartButtonEl =\n",
              "        document.querySelector('#df-30a717aa-d8df-4624-8143-dde91116cc3d button');\n",
              "      quickchartButtonEl.style.display =\n",
              "        google.colab.kernel.accessAllowed ? 'block' : 'none';\n",
              "    })();\n",
              "  </script>\n",
              "</div>\n",
              "    </div>\n",
              "  </div>\n"
            ]
          },
          "metadata": {},
          "execution_count": 9
        }
      ]
    },
    {
      "cell_type": "markdown",
      "metadata": {
        "id": "hzQ-R0DUGUtn"
      },
      "source": [
        "## The Simple GARCH Model"
      ]
    },
    {
      "cell_type": "code",
      "metadata": {
        "id": "_IKSfSqRGUtn",
        "colab": {
          "base_uri": "https://localhost:8080/",
          "height": 551
        },
        "outputId": "54bef928-58dd-4041-c9d1-f9e1aafc862a"
      },
      "source": [
        "# incluimos residuos pasados y varianzas pasadas p y q GARCH(1,1)\n",
        "model_garch_1_1 = arch_model(df.returns[1:], mean = \"Constant\", vol = \"GARCH\", p = 1, q = 1)\n",
        "results_garch_1_1 = model_garch_1_1.fit(update_freq = 5)\n",
        "results_garch_1_1.summary()"
      ],
      "execution_count": 11,
      "outputs": [
        {
          "output_type": "stream",
          "name": "stdout",
          "text": [
            "Iteration:      5,   Func. Count:     35,   Neg. LLF: 8341.36952024206\n",
            "Iteration:     10,   Func. Count:     65,   Neg. LLF: 8333.064383147337\n",
            "Optimization terminated successfully    (Exit mode 0)\n",
            "            Current function value: 8333.064383147337\n",
            "            Iterations: 11\n",
            "            Function evaluations: 69\n",
            "            Gradient evaluations: 11\n"
          ]
        },
        {
          "output_type": "execute_result",
          "data": {
            "text/plain": [
              "<class 'statsmodels.iolib.summary.Summary'>\n",
              "\"\"\"\n",
              "                     Constant Mean - GARCH Model Results                      \n",
              "==============================================================================\n",
              "Dep. Variable:                returns   R-squared:                       0.000\n",
              "Mean Model:             Constant Mean   Adj. R-squared:                  0.000\n",
              "Vol Model:                      GARCH   Log-Likelihood:               -8333.06\n",
              "Distribution:                  Normal   AIC:                           16674.1\n",
              "Method:            Maximum Likelihood   BIC:                           16701.0\n",
              "                                        No. Observations:                 6167\n",
              "Date:                Sat, Sep 02 2023   Df Residuals:                     6166\n",
              "Time:                        16:29:34   Df Model:                            1\n",
              "                                 Mean Model                                 \n",
              "============================================================================\n",
              "                 coef    std err          t      P>|t|      95.0% Conf. Int.\n",
              "----------------------------------------------------------------------------\n",
              "mu             0.0427  1.053e-02      4.052  5.068e-05 [2.203e-02,6.329e-02]\n",
              "                              Volatility Model                              \n",
              "============================================================================\n",
              "                 coef    std err          t      P>|t|      95.0% Conf. Int.\n",
              "----------------------------------------------------------------------------\n",
              "omega          0.0135  3.482e-03      3.874  1.069e-04 [6.665e-03,2.031e-02]\n",
              "alpha[1]       0.0891  1.150e-02      7.751  9.086e-15   [6.660e-02,  0.112]\n",
              "beta[1]        0.8998  1.300e-02     69.226      0.000     [  0.874,  0.925]\n",
              "============================================================================\n",
              "\n",
              "Covariance estimator: robust\n",
              "\"\"\""
            ],
            "text/html": [
              "<table class=\"simpletable\">\n",
              "<caption>Constant Mean - GARCH Model Results</caption>\n",
              "<tr>\n",
              "  <th>Dep. Variable:</th>       <td>returns</td>      <th>  R-squared:         </th>  <td>   0.000</td> \n",
              "</tr>\n",
              "<tr>\n",
              "  <th>Mean Model:</th>       <td>Constant Mean</td>   <th>  Adj. R-squared:    </th>  <td>   0.000</td> \n",
              "</tr>\n",
              "<tr>\n",
              "  <th>Vol Model:</th>            <td>GARCH</td>       <th>  Log-Likelihood:    </th> <td>  -8333.06</td>\n",
              "</tr>\n",
              "<tr>\n",
              "  <th>Distribution:</th>        <td>Normal</td>       <th>  AIC:               </th> <td>   16674.1</td>\n",
              "</tr>\n",
              "<tr>\n",
              "  <th>Method:</th>        <td>Maximum Likelihood</td> <th>  BIC:               </th> <td>   16701.0</td>\n",
              "</tr>\n",
              "<tr>\n",
              "  <th></th>                        <td></td>          <th>  No. Observations:  </th>    <td>6167</td>   \n",
              "</tr>\n",
              "<tr>\n",
              "  <th>Date:</th>           <td>Sat, Sep 02 2023</td>  <th>  Df Residuals:      </th>    <td>6166</td>   \n",
              "</tr>\n",
              "<tr>\n",
              "  <th>Time:</th>               <td>16:29:34</td>      <th>  Df Model:          </th>      <td>1</td>    \n",
              "</tr>\n",
              "</table>\n",
              "<table class=\"simpletable\">\n",
              "<caption>Mean Model</caption>\n",
              "<tr>\n",
              "   <td></td>     <th>coef</th>     <th>std err</th>      <th>t</th>       <th>P>|t|</th>     <th>95.0% Conf. Int.</th>   \n",
              "</tr>\n",
              "<tr>\n",
              "  <th>mu</th> <td>    0.0427</td> <td>1.053e-02</td> <td>    4.052</td> <td>5.068e-05</td> <td>[2.203e-02,6.329e-02]</td>\n",
              "</tr>\n",
              "</table>\n",
              "<table class=\"simpletable\">\n",
              "<caption>Volatility Model</caption>\n",
              "<tr>\n",
              "      <td></td>        <th>coef</th>     <th>std err</th>      <th>t</th>       <th>P>|t|</th>     <th>95.0% Conf. Int.</th>   \n",
              "</tr>\n",
              "<tr>\n",
              "  <th>omega</th>    <td>    0.0135</td> <td>3.482e-03</td> <td>    3.874</td> <td>1.069e-04</td> <td>[6.665e-03,2.031e-02]</td>\n",
              "</tr>\n",
              "<tr>\n",
              "  <th>alpha[1]</th> <td>    0.0891</td> <td>1.150e-02</td> <td>    7.751</td> <td>9.086e-15</td>  <td>[6.660e-02,  0.112]</td> \n",
              "</tr>\n",
              "<tr>\n",
              "  <th>beta[1]</th>  <td>    0.8998</td> <td>1.300e-02</td> <td>   69.226</td>   <td>0.000</td>     <td>[  0.874,  0.925]</td>  \n",
              "</tr>\n",
              "</table><br/><br/>Covariance estimator: robust"
            ],
            "text/latex": "\\begin{center}\n\\begin{tabular}{lclc}\n\\toprule\n\\textbf{Dep. Variable:} &      returns       & \\textbf{  R-squared:         } &     0.000   \\\\\n\\textbf{Mean Model:}    &   Constant Mean    & \\textbf{  Adj. R-squared:    } &     0.000   \\\\\n\\textbf{Vol Model:}     &       GARCH        & \\textbf{  Log-Likelihood:    } &   -8333.06  \\\\\n\\textbf{Distribution:}  &       Normal       & \\textbf{  AIC:               } &    16674.1  \\\\\n\\textbf{Method:}        & Maximum Likelihood & \\textbf{  BIC:               } &    16701.0  \\\\\n\\textbf{}               &                    & \\textbf{  No. Observations:  } &    6167     \\\\\n\\textbf{Date:}          &  Sat, Sep 02 2023  & \\textbf{  Df Residuals:      } &    6166     \\\\\n\\textbf{Time:}          &      16:29:34      & \\textbf{  Df Model:          } &     1       \\\\\n\\bottomrule\n\\end{tabular}\n\\begin{tabular}{lccccc}\n            & \\textbf{coef} & \\textbf{std err} & \\textbf{t} & \\textbf{P$> |$t$|$} & \\textbf{95.0\\% Conf. Int.}  \\\\\n\\midrule\n\\textbf{mu} &       0.0427  &    1.053e-02     &     4.052  &      5.068e-05       &   [2.203e-02,6.329e-02]     \\\\\n                  & \\textbf{coef} & \\textbf{std err} & \\textbf{t} & \\textbf{P$> |$t$|$} & \\textbf{95.0\\% Conf. Int.}  \\\\\n\\midrule\n\\textbf{omega}    &       0.0135  &    3.482e-03     &     3.874  &      1.069e-04       &   [6.665e-03,2.031e-02]     \\\\\n\\textbf{alpha[1]} &       0.0891  &    1.150e-02     &     7.751  &      9.086e-15       &    [6.660e-02,  0.112]      \\\\\n\\textbf{beta[1]}  &       0.8998  &    1.300e-02     &    69.226  &        0.000         &     [  0.874,  0.925]       \\\\\n\\bottomrule\n\\end{tabular}\n%\\caption{Constant Mean - GARCH Model Results}\n\\end{center}\n\nCovariance estimator: robust"
          },
          "metadata": {},
          "execution_count": 11
        }
      ]
    },
    {
      "cell_type": "markdown",
      "metadata": {
        "id": "bJFUIHKuLHAg"
      },
      "source": [
        "Todos son significativos, la verosimilitud aumenta y el AIC baja, por lo tanto, diriamos que, incluir valores pasados de la varianza proporciona una una presicion mucho mayor, es decir, mejora la capacidad prodictiva del modelo. este modelo se convierte en el favorito para medir la volatilidad.\n",
        "\n",
        "AUMENTANDO LOS ORDENES EN EL MODELO.."
      ]
    },
    {
      "cell_type": "markdown",
      "metadata": {
        "id": "D_b-RpfRGUtr"
      },
      "source": [
        "## Higher-Lag GARCH Models"
      ]
    },
    {
      "cell_type": "code",
      "metadata": {
        "id": "XTbS1Q6LGUtr",
        "colab": {
          "base_uri": "https://localhost:8080/",
          "height": 572
        },
        "outputId": "2259d366-f2e0-4bd0-e3de-4dc080e4beb0"
      },
      "source": [
        "# modelo GARCH(1,2)\n",
        "model_garch_1_2 = arch_model(df.returns[1:], mean = \"Constant\",  vol = \"GARCH\", p = 1, q = 2)\n",
        "results_garch_1_2 = model_garch_1_2.fit(update_freq = 5)\n",
        "results_garch_1_2.summary()"
      ],
      "execution_count": 12,
      "outputs": [
        {
          "output_type": "stream",
          "name": "stdout",
          "text": [
            "Iteration:      5,   Func. Count:     40,   Neg. LLF: 8345.055585036644\n",
            "Iteration:     10,   Func. Count:     73,   Neg. LLF: 8333.066952165578\n",
            "Optimization terminated successfully    (Exit mode 0)\n",
            "            Current function value: 8333.064383425113\n",
            "            Iterations: 12\n",
            "            Function evaluations: 85\n",
            "            Gradient evaluations: 12\n"
          ]
        },
        {
          "output_type": "execute_result",
          "data": {
            "text/plain": [
              "<class 'statsmodels.iolib.summary.Summary'>\n",
              "\"\"\"\n",
              "                     Constant Mean - GARCH Model Results                      \n",
              "==============================================================================\n",
              "Dep. Variable:                returns   R-squared:                       0.000\n",
              "Mean Model:             Constant Mean   Adj. R-squared:                  0.000\n",
              "Vol Model:                      GARCH   Log-Likelihood:               -8333.06\n",
              "Distribution:                  Normal   AIC:                           16676.1\n",
              "Method:            Maximum Likelihood   BIC:                           16709.8\n",
              "                                        No. Observations:                 6167\n",
              "Date:                Sat, Sep 02 2023   Df Residuals:                     6166\n",
              "Time:                        16:29:43   Df Model:                            1\n",
              "                                 Mean Model                                 \n",
              "============================================================================\n",
              "                 coef    std err          t      P>|t|      95.0% Conf. Int.\n",
              "----------------------------------------------------------------------------\n",
              "mu             0.0427  1.052e-02      4.056  5.002e-05 [2.204e-02,6.328e-02]\n",
              "                              Volatility Model                              \n",
              "============================================================================\n",
              "                 coef    std err          t      P>|t|      95.0% Conf. Int.\n",
              "----------------------------------------------------------------------------\n",
              "omega          0.0135  3.342e-03      4.036  5.431e-05 [6.939e-03,2.004e-02]\n",
              "alpha[1]       0.0891  1.370e-02      6.506  7.708e-11   [6.229e-02,  0.116]\n",
              "beta[1]        0.8998      0.208      4.328  1.501e-05     [  0.492,  1.307]\n",
              "beta[2]        0.0000      0.198      0.000      1.000     [ -0.389,  0.389]\n",
              "============================================================================\n",
              "\n",
              "Covariance estimator: robust\n",
              "\"\"\""
            ],
            "text/html": [
              "<table class=\"simpletable\">\n",
              "<caption>Constant Mean - GARCH Model Results</caption>\n",
              "<tr>\n",
              "  <th>Dep. Variable:</th>       <td>returns</td>      <th>  R-squared:         </th>  <td>   0.000</td> \n",
              "</tr>\n",
              "<tr>\n",
              "  <th>Mean Model:</th>       <td>Constant Mean</td>   <th>  Adj. R-squared:    </th>  <td>   0.000</td> \n",
              "</tr>\n",
              "<tr>\n",
              "  <th>Vol Model:</th>            <td>GARCH</td>       <th>  Log-Likelihood:    </th> <td>  -8333.06</td>\n",
              "</tr>\n",
              "<tr>\n",
              "  <th>Distribution:</th>        <td>Normal</td>       <th>  AIC:               </th> <td>   16676.1</td>\n",
              "</tr>\n",
              "<tr>\n",
              "  <th>Method:</th>        <td>Maximum Likelihood</td> <th>  BIC:               </th> <td>   16709.8</td>\n",
              "</tr>\n",
              "<tr>\n",
              "  <th></th>                        <td></td>          <th>  No. Observations:  </th>    <td>6167</td>   \n",
              "</tr>\n",
              "<tr>\n",
              "  <th>Date:</th>           <td>Sat, Sep 02 2023</td>  <th>  Df Residuals:      </th>    <td>6166</td>   \n",
              "</tr>\n",
              "<tr>\n",
              "  <th>Time:</th>               <td>16:29:43</td>      <th>  Df Model:          </th>      <td>1</td>    \n",
              "</tr>\n",
              "</table>\n",
              "<table class=\"simpletable\">\n",
              "<caption>Mean Model</caption>\n",
              "<tr>\n",
              "   <td></td>     <th>coef</th>     <th>std err</th>      <th>t</th>       <th>P>|t|</th>     <th>95.0% Conf. Int.</th>   \n",
              "</tr>\n",
              "<tr>\n",
              "  <th>mu</th> <td>    0.0427</td> <td>1.052e-02</td> <td>    4.056</td> <td>5.002e-05</td> <td>[2.204e-02,6.328e-02]</td>\n",
              "</tr>\n",
              "</table>\n",
              "<table class=\"simpletable\">\n",
              "<caption>Volatility Model</caption>\n",
              "<tr>\n",
              "      <td></td>        <th>coef</th>     <th>std err</th>      <th>t</th>       <th>P>|t|</th>     <th>95.0% Conf. Int.</th>   \n",
              "</tr>\n",
              "<tr>\n",
              "  <th>omega</th>    <td>    0.0135</td> <td>3.342e-03</td> <td>    4.036</td> <td>5.431e-05</td> <td>[6.939e-03,2.004e-02]</td>\n",
              "</tr>\n",
              "<tr>\n",
              "  <th>alpha[1]</th> <td>    0.0891</td> <td>1.370e-02</td> <td>    6.506</td> <td>7.708e-11</td>  <td>[6.229e-02,  0.116]</td> \n",
              "</tr>\n",
              "<tr>\n",
              "  <th>beta[1]</th>  <td>    0.8998</td> <td>    0.208</td> <td>    4.328</td> <td>1.501e-05</td>   <td>[  0.492,  1.307]</td>  \n",
              "</tr>\n",
              "<tr>\n",
              "  <th>beta[2]</th>    <td>0.0000</td>   <td>    0.198</td>   <td>0.000</td>   <td>    1.000</td>   <td>[ -0.389,  0.389]</td>  \n",
              "</tr>\n",
              "</table><br/><br/>Covariance estimator: robust"
            ],
            "text/latex": "\\begin{center}\n\\begin{tabular}{lclc}\n\\toprule\n\\textbf{Dep. Variable:} &      returns       & \\textbf{  R-squared:         } &     0.000   \\\\\n\\textbf{Mean Model:}    &   Constant Mean    & \\textbf{  Adj. R-squared:    } &     0.000   \\\\\n\\textbf{Vol Model:}     &       GARCH        & \\textbf{  Log-Likelihood:    } &   -8333.06  \\\\\n\\textbf{Distribution:}  &       Normal       & \\textbf{  AIC:               } &    16676.1  \\\\\n\\textbf{Method:}        & Maximum Likelihood & \\textbf{  BIC:               } &    16709.8  \\\\\n\\textbf{}               &                    & \\textbf{  No. Observations:  } &    6167     \\\\\n\\textbf{Date:}          &  Sat, Sep 02 2023  & \\textbf{  Df Residuals:      } &    6166     \\\\\n\\textbf{Time:}          &      16:29:43      & \\textbf{  Df Model:          } &     1       \\\\\n\\bottomrule\n\\end{tabular}\n\\begin{tabular}{lccccc}\n            & \\textbf{coef} & \\textbf{std err} & \\textbf{t} & \\textbf{P$> |$t$|$} & \\textbf{95.0\\% Conf. Int.}  \\\\\n\\midrule\n\\textbf{mu} &       0.0427  &    1.052e-02     &     4.056  &      5.002e-05       &   [2.204e-02,6.328e-02]     \\\\\n                  & \\textbf{coef} & \\textbf{std err} & \\textbf{t} & \\textbf{P$> |$t$|$} & \\textbf{95.0\\% Conf. Int.}  \\\\\n\\midrule\n\\textbf{omega}    &       0.0135  &    3.342e-03     &     4.036  &      5.431e-05       &   [6.939e-03,2.004e-02]     \\\\\n\\textbf{alpha[1]} &       0.0891  &    1.370e-02     &     6.506  &      7.708e-11       &    [6.229e-02,  0.116]      \\\\\n\\textbf{beta[1]}  &       0.8998  &        0.208     &     4.328  &      1.501e-05       &     [  0.492,  1.307]       \\\\\n\\textbf{beta[2]}  &     0.0000    &        0.198     &   0.000    &          1.000       &     [ -0.389,  0.389]       \\\\\n\\bottomrule\n\\end{tabular}\n%\\caption{Constant Mean - GARCH Model Results}\n\\end{center}\n\nCovariance estimator: robust"
          },
          "metadata": {},
          "execution_count": 12
        }
      ]
    },
    {
      "cell_type": "markdown",
      "metadata": {
        "id": "t379ItfgM8Nm"
      },
      "source": [
        "Existe un coeficiente no significativo, esto significa que tenemos un caso de multicolinealidad y es debido a la relacion entre las variaciones condicionales."
      ]
    },
    {
      "cell_type": "code",
      "metadata": {
        "id": "XYQQ0aSZGUtu",
        "colab": {
          "base_uri": "https://localhost:8080/",
          "height": 611
        },
        "outputId": "0d8d79cf-4bf9-4862-8c83-1089d3eacd98"
      },
      "source": [
        "# modelo GARCH(1,3)\n",
        "model_garch_1_3 = arch_model(df.returns[1:], mean = \"Constant\",  vol = \"GARCH\", p = 1, q = 3)\n",
        "results_garch_1_3 = model_garch_1_3.fit(update_freq = 5)\n",
        "results_garch_1_3.summary()"
      ],
      "execution_count": 13,
      "outputs": [
        {
          "output_type": "stream",
          "name": "stdout",
          "text": [
            "Iteration:      5,   Func. Count:     47,   Neg. LLF: 8486.86014652485\n",
            "Iteration:     10,   Func. Count:     88,   Neg. LLF: 8333.67159674283\n",
            "Iteration:     15,   Func. Count:    123,   Neg. LLF: 8333.064386802807\n",
            "Optimization terminated successfully    (Exit mode 0)\n",
            "            Current function value: 8333.064383210181\n",
            "            Iterations: 17\n",
            "            Function evaluations: 136\n",
            "            Gradient evaluations: 17\n"
          ]
        },
        {
          "output_type": "execute_result",
          "data": {
            "text/plain": [
              "<class 'statsmodels.iolib.summary.Summary'>\n",
              "\"\"\"\n",
              "                     Constant Mean - GARCH Model Results                      \n",
              "==============================================================================\n",
              "Dep. Variable:                returns   R-squared:                       0.000\n",
              "Mean Model:             Constant Mean   Adj. R-squared:                  0.000\n",
              "Vol Model:                      GARCH   Log-Likelihood:               -8333.06\n",
              "Distribution:                  Normal   AIC:                           16678.1\n",
              "Method:            Maximum Likelihood   BIC:                           16718.5\n",
              "                                        No. Observations:                 6167\n",
              "Date:                Sat, Sep 02 2023   Df Residuals:                     6166\n",
              "Time:                        16:30:19   Df Model:                            1\n",
              "                                  Mean Model                                 \n",
              "=============================================================================\n",
              "                 coef    std err          t      P>|t|       95.0% Conf. Int.\n",
              "-----------------------------------------------------------------------------\n",
              "mu             0.0427  2.562e-02      1.665  9.591e-02 [-7.556e-03,9.287e-02]\n",
              "                            Volatility Model                            \n",
              "========================================================================\n",
              "                 coef    std err          t      P>|t|  95.0% Conf. Int.\n",
              "------------------------------------------------------------------------\n",
              "omega          0.0135  8.910e-02      0.151      0.880 [ -0.161,  0.188]\n",
              "alpha[1]       0.0891      0.606      0.147      0.883 [ -1.099,  1.277]\n",
              "beta[1]        0.8998     17.813  5.051e-02      0.960 [-34.014, 35.813]\n",
              "beta[2]    1.4442e-10     27.113  5.327e-12      1.000 [-53.141, 53.141]\n",
              "beta[3]        0.0000      9.976      0.000      1.000 [-19.552, 19.552]\n",
              "========================================================================\n",
              "\n",
              "Covariance estimator: robust\n",
              "\"\"\""
            ],
            "text/html": [
              "<table class=\"simpletable\">\n",
              "<caption>Constant Mean - GARCH Model Results</caption>\n",
              "<tr>\n",
              "  <th>Dep. Variable:</th>       <td>returns</td>      <th>  R-squared:         </th>  <td>   0.000</td> \n",
              "</tr>\n",
              "<tr>\n",
              "  <th>Mean Model:</th>       <td>Constant Mean</td>   <th>  Adj. R-squared:    </th>  <td>   0.000</td> \n",
              "</tr>\n",
              "<tr>\n",
              "  <th>Vol Model:</th>            <td>GARCH</td>       <th>  Log-Likelihood:    </th> <td>  -8333.06</td>\n",
              "</tr>\n",
              "<tr>\n",
              "  <th>Distribution:</th>        <td>Normal</td>       <th>  AIC:               </th> <td>   16678.1</td>\n",
              "</tr>\n",
              "<tr>\n",
              "  <th>Method:</th>        <td>Maximum Likelihood</td> <th>  BIC:               </th> <td>   16718.5</td>\n",
              "</tr>\n",
              "<tr>\n",
              "  <th></th>                        <td></td>          <th>  No. Observations:  </th>    <td>6167</td>   \n",
              "</tr>\n",
              "<tr>\n",
              "  <th>Date:</th>           <td>Sat, Sep 02 2023</td>  <th>  Df Residuals:      </th>    <td>6166</td>   \n",
              "</tr>\n",
              "<tr>\n",
              "  <th>Time:</th>               <td>16:30:19</td>      <th>  Df Model:          </th>      <td>1</td>    \n",
              "</tr>\n",
              "</table>\n",
              "<table class=\"simpletable\">\n",
              "<caption>Mean Model</caption>\n",
              "<tr>\n",
              "   <td></td>     <th>coef</th>     <th>std err</th>      <th>t</th>       <th>P>|t|</th>      <th>95.0% Conf. Int.</th>   \n",
              "</tr>\n",
              "<tr>\n",
              "  <th>mu</th> <td>    0.0427</td> <td>2.562e-02</td> <td>    1.665</td> <td>9.591e-02</td> <td>[-7.556e-03,9.287e-02]</td>\n",
              "</tr>\n",
              "</table>\n",
              "<table class=\"simpletable\">\n",
              "<caption>Volatility Model</caption>\n",
              "<tr>\n",
              "      <td></td>        <th>coef</th>     <th>std err</th>      <th>t</th>       <th>P>|t|</th>   <th>95.0% Conf. Int.</th> \n",
              "</tr>\n",
              "<tr>\n",
              "  <th>omega</th>    <td>    0.0135</td> <td>8.910e-02</td> <td>    0.151</td> <td>    0.880</td> <td>[ -0.161,  0.188]</td>\n",
              "</tr>\n",
              "<tr>\n",
              "  <th>alpha[1]</th> <td>    0.0891</td> <td>    0.606</td> <td>    0.147</td> <td>    0.883</td> <td>[ -1.099,  1.277]</td>\n",
              "</tr>\n",
              "<tr>\n",
              "  <th>beta[1]</th>  <td>    0.8998</td> <td>   17.813</td> <td>5.051e-02</td> <td>    0.960</td> <td>[-34.014, 35.813]</td>\n",
              "</tr>\n",
              "<tr>\n",
              "  <th>beta[2]</th>  <td>1.4442e-10</td> <td>   27.113</td> <td>5.327e-12</td> <td>    1.000</td> <td>[-53.141, 53.141]</td>\n",
              "</tr>\n",
              "<tr>\n",
              "  <th>beta[3]</th>    <td>0.0000</td>   <td>    9.976</td>   <td>0.000</td>   <td>    1.000</td> <td>[-19.552, 19.552]</td>\n",
              "</tr>\n",
              "</table><br/><br/>Covariance estimator: robust"
            ],
            "text/latex": "\\begin{center}\n\\begin{tabular}{lclc}\n\\toprule\n\\textbf{Dep. Variable:} &      returns       & \\textbf{  R-squared:         } &     0.000   \\\\\n\\textbf{Mean Model:}    &   Constant Mean    & \\textbf{  Adj. R-squared:    } &     0.000   \\\\\n\\textbf{Vol Model:}     &       GARCH        & \\textbf{  Log-Likelihood:    } &   -8333.06  \\\\\n\\textbf{Distribution:}  &       Normal       & \\textbf{  AIC:               } &    16678.1  \\\\\n\\textbf{Method:}        & Maximum Likelihood & \\textbf{  BIC:               } &    16718.5  \\\\\n\\textbf{}               &                    & \\textbf{  No. Observations:  } &    6167     \\\\\n\\textbf{Date:}          &  Sat, Sep 02 2023  & \\textbf{  Df Residuals:      } &    6166     \\\\\n\\textbf{Time:}          &      16:30:19      & \\textbf{  Df Model:          } &     1       \\\\\n\\bottomrule\n\\end{tabular}\n\\begin{tabular}{lccccc}\n            & \\textbf{coef} & \\textbf{std err} & \\textbf{t} & \\textbf{P$> |$t$|$} & \\textbf{95.0\\% Conf. Int.}  \\\\\n\\midrule\n\\textbf{mu} &       0.0427  &    2.562e-02     &     1.665  &      9.591e-02       &   [-7.556e-03,9.287e-02]    \\\\\n                  & \\textbf{coef} & \\textbf{std err} & \\textbf{t} & \\textbf{P$> |$t$|$} & \\textbf{95.0\\% Conf. Int.}  \\\\\n\\midrule\n\\textbf{omega}    &       0.0135  &    8.910e-02     &     0.151  &          0.880       &     [ -0.161,  0.188]       \\\\\n\\textbf{alpha[1]} &       0.0891  &        0.606     &     0.147  &          0.883       &     [ -1.099,  1.277]       \\\\\n\\textbf{beta[1]}  &       0.8998  &       17.813     & 5.051e-02  &          0.960       &     [-34.014, 35.813]       \\\\\n\\textbf{beta[2]}  &   1.4442e-10  &       27.113     & 5.327e-12  &          1.000       &     [-53.141, 53.141]       \\\\\n\\textbf{beta[3]}  &     0.0000    &        9.976     &   0.000    &          1.000       &     [-19.552, 19.552]       \\\\\n\\bottomrule\n\\end{tabular}\n%\\caption{Constant Mean - GARCH Model Results}\n\\end{center}\n\nCovariance estimator: robust"
          },
          "metadata": {},
          "execution_count": 13
        }
      ]
    },
    {
      "cell_type": "markdown",
      "metadata": {
        "id": "a8PfKN8iNdO5"
      },
      "source": [
        "empeora el modelo."
      ]
    },
    {
      "cell_type": "code",
      "metadata": {
        "id": "iVn5AUV5GUtx",
        "colab": {
          "base_uri": "https://localhost:8080/",
          "height": 572
        },
        "outputId": "418e25e1-ddc0-4917-cb7f-4a406122bfae"
      },
      "source": [
        "# que pasa añadiendo un error mas. GARCH(2,1)\n",
        "model_garch_2_1 = arch_model(df.returns[1:], mean = \"Constant\",  vol = \"GARCH\", p = 2, q = 1)\n",
        "results_garch_2_1 = model_garch_2_1.fit(update_freq = 5)\n",
        "results_garch_2_1.summary()"
      ],
      "execution_count": 14,
      "outputs": [
        {
          "output_type": "stream",
          "name": "stdout",
          "text": [
            "Iteration:      5,   Func. Count:     41,   Neg. LLF: 8348.606031783644\n",
            "Iteration:     10,   Func. Count:     76,   Neg. LLF: 8331.822462526336\n",
            "Optimization terminated successfully    (Exit mode 0)\n",
            "            Current function value: 8331.808278578366\n",
            "            Iterations: 14\n",
            "            Function evaluations: 99\n",
            "            Gradient evaluations: 14\n"
          ]
        },
        {
          "output_type": "execute_result",
          "data": {
            "text/plain": [
              "<class 'statsmodels.iolib.summary.Summary'>\n",
              "\"\"\"\n",
              "                     Constant Mean - GARCH Model Results                      \n",
              "==============================================================================\n",
              "Dep. Variable:                returns   R-squared:                       0.000\n",
              "Mean Model:             Constant Mean   Adj. R-squared:                  0.000\n",
              "Vol Model:                      GARCH   Log-Likelihood:               -8331.81\n",
              "Distribution:                  Normal   AIC:                           16673.6\n",
              "Method:            Maximum Likelihood   BIC:                           16707.3\n",
              "                                        No. Observations:                 6167\n",
              "Date:                Sat, Sep 02 2023   Df Residuals:                     6166\n",
              "Time:                        16:30:43   Df Model:                            1\n",
              "                                 Mean Model                                 \n",
              "============================================================================\n",
              "                 coef    std err          t      P>|t|      95.0% Conf. Int.\n",
              "----------------------------------------------------------------------------\n",
              "mu             0.0424  1.057e-02      4.016  5.928e-05 [2.172e-02,6.314e-02]\n",
              "                               Volatility Model                              \n",
              "=============================================================================\n",
              "                 coef    std err          t      P>|t|       95.0% Conf. Int.\n",
              "-----------------------------------------------------------------------------\n",
              "omega          0.0155  4.796e-03      3.225  1.262e-03  [6.065e-03,2.486e-02]\n",
              "alpha[1]       0.0702  1.721e-02      4.079  4.517e-05    [3.648e-02,  0.104]\n",
              "alpha[2]       0.0274  2.461e-02      1.115      0.265 [-2.080e-02,7.568e-02]\n",
              "beta[1]        0.8897  1.946e-02     45.716      0.000      [  0.852,  0.928]\n",
              "=============================================================================\n",
              "\n",
              "Covariance estimator: robust\n",
              "\"\"\""
            ],
            "text/html": [
              "<table class=\"simpletable\">\n",
              "<caption>Constant Mean - GARCH Model Results</caption>\n",
              "<tr>\n",
              "  <th>Dep. Variable:</th>       <td>returns</td>      <th>  R-squared:         </th>  <td>   0.000</td> \n",
              "</tr>\n",
              "<tr>\n",
              "  <th>Mean Model:</th>       <td>Constant Mean</td>   <th>  Adj. R-squared:    </th>  <td>   0.000</td> \n",
              "</tr>\n",
              "<tr>\n",
              "  <th>Vol Model:</th>            <td>GARCH</td>       <th>  Log-Likelihood:    </th> <td>  -8331.81</td>\n",
              "</tr>\n",
              "<tr>\n",
              "  <th>Distribution:</th>        <td>Normal</td>       <th>  AIC:               </th> <td>   16673.6</td>\n",
              "</tr>\n",
              "<tr>\n",
              "  <th>Method:</th>        <td>Maximum Likelihood</td> <th>  BIC:               </th> <td>   16707.3</td>\n",
              "</tr>\n",
              "<tr>\n",
              "  <th></th>                        <td></td>          <th>  No. Observations:  </th>    <td>6167</td>   \n",
              "</tr>\n",
              "<tr>\n",
              "  <th>Date:</th>           <td>Sat, Sep 02 2023</td>  <th>  Df Residuals:      </th>    <td>6166</td>   \n",
              "</tr>\n",
              "<tr>\n",
              "  <th>Time:</th>               <td>16:30:43</td>      <th>  Df Model:          </th>      <td>1</td>    \n",
              "</tr>\n",
              "</table>\n",
              "<table class=\"simpletable\">\n",
              "<caption>Mean Model</caption>\n",
              "<tr>\n",
              "   <td></td>     <th>coef</th>     <th>std err</th>      <th>t</th>       <th>P>|t|</th>     <th>95.0% Conf. Int.</th>   \n",
              "</tr>\n",
              "<tr>\n",
              "  <th>mu</th> <td>    0.0424</td> <td>1.057e-02</td> <td>    4.016</td> <td>5.928e-05</td> <td>[2.172e-02,6.314e-02]</td>\n",
              "</tr>\n",
              "</table>\n",
              "<table class=\"simpletable\">\n",
              "<caption>Volatility Model</caption>\n",
              "<tr>\n",
              "      <td></td>        <th>coef</th>     <th>std err</th>      <th>t</th>       <th>P>|t|</th>      <th>95.0% Conf. Int.</th>   \n",
              "</tr>\n",
              "<tr>\n",
              "  <th>omega</th>    <td>    0.0155</td> <td>4.796e-03</td> <td>    3.225</td> <td>1.262e-03</td>  <td>[6.065e-03,2.486e-02]</td>\n",
              "</tr>\n",
              "<tr>\n",
              "  <th>alpha[1]</th> <td>    0.0702</td> <td>1.721e-02</td> <td>    4.079</td> <td>4.517e-05</td>   <td>[3.648e-02,  0.104]</td> \n",
              "</tr>\n",
              "<tr>\n",
              "  <th>alpha[2]</th> <td>    0.0274</td> <td>2.461e-02</td> <td>    1.115</td> <td>    0.265</td> <td>[-2.080e-02,7.568e-02]</td>\n",
              "</tr>\n",
              "<tr>\n",
              "  <th>beta[1]</th>  <td>    0.8897</td> <td>1.946e-02</td> <td>   45.716</td>   <td>0.000</td>      <td>[  0.852,  0.928]</td>  \n",
              "</tr>\n",
              "</table><br/><br/>Covariance estimator: robust"
            ],
            "text/latex": "\\begin{center}\n\\begin{tabular}{lclc}\n\\toprule\n\\textbf{Dep. Variable:} &      returns       & \\textbf{  R-squared:         } &     0.000   \\\\\n\\textbf{Mean Model:}    &   Constant Mean    & \\textbf{  Adj. R-squared:    } &     0.000   \\\\\n\\textbf{Vol Model:}     &       GARCH        & \\textbf{  Log-Likelihood:    } &   -8331.81  \\\\\n\\textbf{Distribution:}  &       Normal       & \\textbf{  AIC:               } &    16673.6  \\\\\n\\textbf{Method:}        & Maximum Likelihood & \\textbf{  BIC:               } &    16707.3  \\\\\n\\textbf{}               &                    & \\textbf{  No. Observations:  } &    6167     \\\\\n\\textbf{Date:}          &  Sat, Sep 02 2023  & \\textbf{  Df Residuals:      } &    6166     \\\\\n\\textbf{Time:}          &      16:30:43      & \\textbf{  Df Model:          } &     1       \\\\\n\\bottomrule\n\\end{tabular}\n\\begin{tabular}{lccccc}\n            & \\textbf{coef} & \\textbf{std err} & \\textbf{t} & \\textbf{P$> |$t$|$} & \\textbf{95.0\\% Conf. Int.}  \\\\\n\\midrule\n\\textbf{mu} &       0.0424  &    1.057e-02     &     4.016  &      5.928e-05       &   [2.172e-02,6.314e-02]     \\\\\n                  & \\textbf{coef} & \\textbf{std err} & \\textbf{t} & \\textbf{P$> |$t$|$} & \\textbf{95.0\\% Conf. Int.}  \\\\\n\\midrule\n\\textbf{omega}    &       0.0155  &    4.796e-03     &     3.225  &      1.262e-03       &   [6.065e-03,2.486e-02]     \\\\\n\\textbf{alpha[1]} &       0.0702  &    1.721e-02     &     4.079  &      4.517e-05       &    [3.648e-02,  0.104]      \\\\\n\\textbf{alpha[2]} &       0.0274  &    2.461e-02     &     1.115  &          0.265       &   [-2.080e-02,7.568e-02]    \\\\\n\\textbf{beta[1]}  &       0.8897  &    1.946e-02     &    45.716  &        0.000         &     [  0.852,  0.928]       \\\\\n\\bottomrule\n\\end{tabular}\n%\\caption{Constant Mean - GARCH Model Results}\n\\end{center}\n\nCovariance estimator: robust"
          },
          "metadata": {},
          "execution_count": 14
        }
      ]
    },
    {
      "cell_type": "markdown",
      "metadata": {
        "id": "bwQu_e6LNoMr"
      },
      "source": [
        "vemos un valor no significativo.\n",
        "\n",
        "Añadiendo otro error mas, paso lo mismo, veamos"
      ]
    },
    {
      "cell_type": "code",
      "metadata": {
        "id": "3yc8Kd90GUtz",
        "colab": {
          "base_uri": "https://localhost:8080/",
          "height": 593
        },
        "outputId": "e4c07321-e03b-49d2-ec56-216680f14245"
      },
      "source": [
        "# GARCH(3.1)\n",
        "model_garch_3_1 = arch_model(df.returns[1:], mean = \"Constant\",  vol = \"GARCH\", p = 3, q = 1)\n",
        "results_garch_3_1 = model_garch_3_1.fit(update_freq = 5)\n",
        "results_garch_3_1.summary()"
      ],
      "execution_count": 15,
      "outputs": [
        {
          "output_type": "stream",
          "name": "stdout",
          "text": [
            "Iteration:      5,   Func. Count:     45,   Neg. LLF: 16351.727855238629\n",
            "Iteration:     10,   Func. Count:     85,   Neg. LLF: 8331.819632529354\n",
            "Optimization terminated successfully    (Exit mode 0)\n",
            "            Current function value: 8331.808278866853\n",
            "            Iterations: 13\n",
            "            Function evaluations: 106\n",
            "            Gradient evaluations: 13\n"
          ]
        },
        {
          "output_type": "execute_result",
          "data": {
            "text/plain": [
              "<class 'statsmodels.iolib.summary.Summary'>\n",
              "\"\"\"\n",
              "                     Constant Mean - GARCH Model Results                      \n",
              "==============================================================================\n",
              "Dep. Variable:                returns   R-squared:                       0.000\n",
              "Mean Model:             Constant Mean   Adj. R-squared:                  0.000\n",
              "Vol Model:                      GARCH   Log-Likelihood:               -8331.81\n",
              "Distribution:                  Normal   AIC:                           16675.6\n",
              "Method:            Maximum Likelihood   BIC:                           16716.0\n",
              "                                        No. Observations:                 6167\n",
              "Date:                Sat, Sep 02 2023   Df Residuals:                     6166\n",
              "Time:                        16:31:11   Df Model:                            1\n",
              "                                 Mean Model                                 \n",
              "============================================================================\n",
              "                 coef    std err          t      P>|t|      95.0% Conf. Int.\n",
              "----------------------------------------------------------------------------\n",
              "mu             0.0424  1.061e-02      4.000  6.323e-05 [2.164e-02,6.322e-02]\n",
              "                               Volatility Model                              \n",
              "=============================================================================\n",
              "                 coef    std err          t      P>|t|       95.0% Conf. Int.\n",
              "-----------------------------------------------------------------------------\n",
              "omega          0.0155  6.085e-03      2.541  1.105e-02  [3.536e-03,2.739e-02]\n",
              "alpha[1]       0.0702  1.721e-02      4.080  4.507e-05    [3.648e-02,  0.104]\n",
              "alpha[2]       0.0274  2.473e-02      1.110      0.267 [-2.102e-02,7.591e-02]\n",
              "alpha[3]   8.1967e-13  2.661e-02  3.080e-11      1.000 [-5.216e-02,5.216e-02]\n",
              "beta[1]        0.8897  2.726e-02     32.637 1.237e-233      [  0.836,  0.943]\n",
              "=============================================================================\n",
              "\n",
              "Covariance estimator: robust\n",
              "\"\"\""
            ],
            "text/html": [
              "<table class=\"simpletable\">\n",
              "<caption>Constant Mean - GARCH Model Results</caption>\n",
              "<tr>\n",
              "  <th>Dep. Variable:</th>       <td>returns</td>      <th>  R-squared:         </th>  <td>   0.000</td> \n",
              "</tr>\n",
              "<tr>\n",
              "  <th>Mean Model:</th>       <td>Constant Mean</td>   <th>  Adj. R-squared:    </th>  <td>   0.000</td> \n",
              "</tr>\n",
              "<tr>\n",
              "  <th>Vol Model:</th>            <td>GARCH</td>       <th>  Log-Likelihood:    </th> <td>  -8331.81</td>\n",
              "</tr>\n",
              "<tr>\n",
              "  <th>Distribution:</th>        <td>Normal</td>       <th>  AIC:               </th> <td>   16675.6</td>\n",
              "</tr>\n",
              "<tr>\n",
              "  <th>Method:</th>        <td>Maximum Likelihood</td> <th>  BIC:               </th> <td>   16716.0</td>\n",
              "</tr>\n",
              "<tr>\n",
              "  <th></th>                        <td></td>          <th>  No. Observations:  </th>    <td>6167</td>   \n",
              "</tr>\n",
              "<tr>\n",
              "  <th>Date:</th>           <td>Sat, Sep 02 2023</td>  <th>  Df Residuals:      </th>    <td>6166</td>   \n",
              "</tr>\n",
              "<tr>\n",
              "  <th>Time:</th>               <td>16:31:11</td>      <th>  Df Model:          </th>      <td>1</td>    \n",
              "</tr>\n",
              "</table>\n",
              "<table class=\"simpletable\">\n",
              "<caption>Mean Model</caption>\n",
              "<tr>\n",
              "   <td></td>     <th>coef</th>     <th>std err</th>      <th>t</th>       <th>P>|t|</th>     <th>95.0% Conf. Int.</th>   \n",
              "</tr>\n",
              "<tr>\n",
              "  <th>mu</th> <td>    0.0424</td> <td>1.061e-02</td> <td>    4.000</td> <td>6.323e-05</td> <td>[2.164e-02,6.322e-02]</td>\n",
              "</tr>\n",
              "</table>\n",
              "<table class=\"simpletable\">\n",
              "<caption>Volatility Model</caption>\n",
              "<tr>\n",
              "      <td></td>        <th>coef</th>     <th>std err</th>      <th>t</th>        <th>P>|t|</th>      <th>95.0% Conf. Int.</th>   \n",
              "</tr>\n",
              "<tr>\n",
              "  <th>omega</th>    <td>    0.0155</td> <td>6.085e-03</td> <td>    2.541</td>  <td>1.105e-02</td>  <td>[3.536e-03,2.739e-02]</td>\n",
              "</tr>\n",
              "<tr>\n",
              "  <th>alpha[1]</th> <td>    0.0702</td> <td>1.721e-02</td> <td>    4.080</td>  <td>4.507e-05</td>   <td>[3.648e-02,  0.104]</td> \n",
              "</tr>\n",
              "<tr>\n",
              "  <th>alpha[2]</th> <td>    0.0274</td> <td>2.473e-02</td> <td>    1.110</td>  <td>    0.267</td> <td>[-2.102e-02,7.591e-02]</td>\n",
              "</tr>\n",
              "<tr>\n",
              "  <th>alpha[3]</th> <td>8.1967e-13</td> <td>2.661e-02</td> <td>3.080e-11</td>  <td>    1.000</td> <td>[-5.216e-02,5.216e-02]</td>\n",
              "</tr>\n",
              "<tr>\n",
              "  <th>beta[1]</th>  <td>    0.8897</td> <td>2.726e-02</td> <td>   32.637</td> <td>1.237e-233</td>    <td>[  0.836,  0.943]</td>  \n",
              "</tr>\n",
              "</table><br/><br/>Covariance estimator: robust"
            ],
            "text/latex": "\\begin{center}\n\\begin{tabular}{lclc}\n\\toprule\n\\textbf{Dep. Variable:} &      returns       & \\textbf{  R-squared:         } &     0.000   \\\\\n\\textbf{Mean Model:}    &   Constant Mean    & \\textbf{  Adj. R-squared:    } &     0.000   \\\\\n\\textbf{Vol Model:}     &       GARCH        & \\textbf{  Log-Likelihood:    } &   -8331.81  \\\\\n\\textbf{Distribution:}  &       Normal       & \\textbf{  AIC:               } &    16675.6  \\\\\n\\textbf{Method:}        & Maximum Likelihood & \\textbf{  BIC:               } &    16716.0  \\\\\n\\textbf{}               &                    & \\textbf{  No. Observations:  } &    6167     \\\\\n\\textbf{Date:}          &  Sat, Sep 02 2023  & \\textbf{  Df Residuals:      } &    6166     \\\\\n\\textbf{Time:}          &      16:31:11      & \\textbf{  Df Model:          } &     1       \\\\\n\\bottomrule\n\\end{tabular}\n\\begin{tabular}{lccccc}\n            & \\textbf{coef} & \\textbf{std err} & \\textbf{t} & \\textbf{P$> |$t$|$} & \\textbf{95.0\\% Conf. Int.}  \\\\\n\\midrule\n\\textbf{mu} &       0.0424  &    1.061e-02     &     4.000  &      6.323e-05       &   [2.164e-02,6.322e-02]     \\\\\n                  & \\textbf{coef} & \\textbf{std err} & \\textbf{t} & \\textbf{P$> |$t$|$} & \\textbf{95.0\\% Conf. Int.}  \\\\\n\\midrule\n\\textbf{omega}    &       0.0155  &    6.085e-03     &     2.541  &      1.105e-02       &   [3.536e-03,2.739e-02]     \\\\\n\\textbf{alpha[1]} &       0.0702  &    1.721e-02     &     4.080  &      4.507e-05       &    [3.648e-02,  0.104]      \\\\\n\\textbf{alpha[2]} &       0.0274  &    2.473e-02     &     1.110  &          0.267       &   [-2.102e-02,7.591e-02]    \\\\\n\\textbf{alpha[3]} &   8.1967e-13  &    2.661e-02     & 3.080e-11  &          1.000       &   [-5.216e-02,5.216e-02]    \\\\\n\\textbf{beta[1]}  &       0.8897  &    2.726e-02     &    32.637  &      1.237e-233      &     [  0.836,  0.943]       \\\\\n\\bottomrule\n\\end{tabular}\n%\\caption{Constant Mean - GARCH Model Results}\n\\end{center}\n\nCovariance estimator: robust"
          },
          "metadata": {},
          "execution_count": 15
        }
      ]
    },
    {
      "cell_type": "markdown",
      "metadata": {
        "id": "JKMTfOlzN3ll"
      },
      "source": [
        "Los garch 1,1 siempre son los mejores modelos para medir la volatilidad de los retornos y no hay necesidad de probar modelos demasiado complicados."
      ]
    }
  ]
}