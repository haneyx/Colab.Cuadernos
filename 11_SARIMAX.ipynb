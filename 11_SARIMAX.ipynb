{
  "nbformat": 4,
  "nbformat_minor": 0,
  "metadata": {
    "colab": {
      "provenance": []
    },
    "kernelspec": {
      "name": "python3",
      "display_name": "Python 3"
    },
    "language_info": {
      "name": "python"
    }
  },
  "cells": [
    {
      "cell_type": "code",
      "execution_count": 1,
      "metadata": {
        "id": "9psc0XylKDv2"
      },
      "outputs": [],
      "source": [
        "import pandas as pd\n",
        "import numpy as np\n",
        "import matplotlib.pyplot as plt\n",
        "import statsmodels.graphics.tsaplots as sgt\n",
        "import statsmodels.tsa.stattools as sts\n",
        "from statsmodels.tsa.arima_model import ARIMA\n",
        "from scipy.stats.distributions import chi2\n",
        "from math import sqrt\n",
        "import seaborn as sns\n",
        "sns.set()"
      ]
    },
    {
      "cell_type": "markdown",
      "source": [
        "Importing the Data and Pre-processing"
      ],
      "metadata": {
        "id": "yMAioq-pKOxc"
      }
    },
    {
      "cell_type": "code",
      "source": [
        "raw_csv_data = pd.read_csv(\"INDEX2023.csv\")\n",
        "df_comp=raw_csv_data.copy()\n",
        "df_comp.date = pd.to_datetime(df_comp.date, dayfirst = True)\n",
        "df_comp.set_index(\"date\", inplace=True)\n",
        "df_comp=df_comp.asfreq('b')\n",
        "df_comp=df_comp.fillna(method='ffill')"
      ],
      "metadata": {
        "id": "6iaHxOo5KRuE"
      },
      "execution_count": 2,
      "outputs": []
    },
    {
      "cell_type": "code",
      "source": [
        "df_comp['market_value']=df_comp.ftse"
      ],
      "metadata": {
        "id": "vtnaD8ZzKUSN"
      },
      "execution_count": 3,
      "outputs": []
    },
    {
      "cell_type": "code",
      "source": [
        "import warnings\n",
        "warnings.filterwarnings(\"ignore\")"
      ],
      "metadata": {
        "id": "wEElEoeyKeRc"
      },
      "execution_count": 4,
      "outputs": []
    },
    {
      "cell_type": "code",
      "source": [
        "#del df_comp['spx']\n",
        "#del df_comp['dax']\n",
        "#del df_comp['ftse']\n",
        "#del df_comp['nikkei']\n",
        "size = int(len(df_comp)*0.8)\n",
        "df, df_test = df_comp.iloc[:size], df_comp.iloc[size:]"
      ],
      "metadata": {
        "id": "_KRM-fHVKgAn"
      },
      "execution_count": 7,
      "outputs": []
    },
    {
      "cell_type": "markdown",
      "source": [
        "The LLR Test"
      ],
      "metadata": {
        "id": "qN6wpNQ-KkAa"
      }
    },
    {
      "cell_type": "code",
      "source": [
        "def LLR_test(mod_1, mod_2, DF = 1):\n",
        "    L1 = mod_1.llf\n",
        "    L2 = mod_2.llf\n",
        "    LR = (2*(L2-L1))\n",
        "    p = chi2.sf(LR, DF).round(3)\n",
        "    return p"
      ],
      "metadata": {
        "id": "C_EZLcACKh6H"
      },
      "execution_count": 8,
      "outputs": []
    },
    {
      "cell_type": "markdown",
      "source": [
        "Creating Returns"
      ],
      "metadata": {
        "id": "ko5sVX_LKnk6"
      }
    },
    {
      "cell_type": "code",
      "source": [
        "df['returns'] = df.market_value.pct_change(1)*100"
      ],
      "metadata": {
        "id": "p98k2FXwKo96"
      },
      "execution_count": 9,
      "outputs": []
    },
    {
      "cell_type": "markdown",
      "source": [
        "ARIMA(1,1,1)"
      ],
      "metadata": {
        "id": "TQFohSSQKqrp"
      }
    },
    {
      "cell_type": "code",
      "source": [
        "from statsmodels.tsa.arima.model import ARIMA\n",
        "model_ar_1_i_1_ma_1 = ARIMA(df.market_value, order=(1,1,1))\n",
        "results_ar_1_i_1_ma_1 = model_ar_1_i_1_ma_1.fit()\n",
        "results_ar_1_i_1_ma_1.summary()"
      ],
      "metadata": {
        "colab": {
          "base_uri": "https://localhost:8080/",
          "height": 427
        },
        "id": "PuIE1_o8KsSS",
        "outputId": "98d58fce-eb20-4e53-b994-5f0d3e205120"
      },
      "execution_count": 10,
      "outputs": [
        {
          "output_type": "execute_result",
          "data": {
            "text/plain": [
              "<class 'statsmodels.iolib.summary.Summary'>\n",
              "\"\"\"\n",
              "                               SARIMAX Results                                \n",
              "==============================================================================\n",
              "Dep. Variable:           market_value   No. Observations:                 6168\n",
              "Model:                 ARIMA(1, 1, 1)   Log Likelihood              -33854.965\n",
              "Date:                Sat, 02 Sep 2023   AIC                          67715.929\n",
              "Time:                        17:41:59   BIC                          67736.110\n",
              "Sample:                    01-10-1994   HQIC                         67722.928\n",
              "                         - 08-30-2017                                         \n",
              "Covariance Type:                  opg                                         \n",
              "==============================================================================\n",
              "                 coef    std err          z      P>|z|      [0.025      0.975]\n",
              "------------------------------------------------------------------------------\n",
              "ar.L1          0.8256      0.042     19.435      0.000       0.742       0.909\n",
              "ma.L1         -0.8611      0.038    -22.727      0.000      -0.935      -0.787\n",
              "sigma2      3434.0705     37.046     92.698      0.000    3361.462    3506.679\n",
              "===================================================================================\n",
              "Ljung-Box (L1) (Q):                   2.86   Jarque-Bera (JB):              3585.51\n",
              "Prob(Q):                              0.09   Prob(JB):                         0.00\n",
              "Heteroskedasticity (H):               1.08   Skew:                            -0.32\n",
              "Prob(H) (two-sided):                  0.07   Kurtosis:                         6.68\n",
              "===================================================================================\n",
              "\n",
              "Warnings:\n",
              "[1] Covariance matrix calculated using the outer product of gradients (complex-step).\n",
              "\"\"\""
            ],
            "text/html": [
              "<table class=\"simpletable\">\n",
              "<caption>SARIMAX Results</caption>\n",
              "<tr>\n",
              "  <th>Dep. Variable:</th>     <td>market_value</td>   <th>  No. Observations:  </th>    <td>6168</td>   \n",
              "</tr>\n",
              "<tr>\n",
              "  <th>Model:</th>            <td>ARIMA(1, 1, 1)</td>  <th>  Log Likelihood     </th> <td>-33854.965</td>\n",
              "</tr>\n",
              "<tr>\n",
              "  <th>Date:</th>            <td>Sat, 02 Sep 2023</td> <th>  AIC                </th>  <td>67715.929</td>\n",
              "</tr>\n",
              "<tr>\n",
              "  <th>Time:</th>                <td>17:41:59</td>     <th>  BIC                </th>  <td>67736.110</td>\n",
              "</tr>\n",
              "<tr>\n",
              "  <th>Sample:</th>             <td>01-10-1994</td>    <th>  HQIC               </th>  <td>67722.928</td>\n",
              "</tr>\n",
              "<tr>\n",
              "  <th></th>                   <td>- 08-30-2017</td>   <th>                     </th>      <td> </td>    \n",
              "</tr>\n",
              "<tr>\n",
              "  <th>Covariance Type:</th>        <td>opg</td>       <th>                     </th>      <td> </td>    \n",
              "</tr>\n",
              "</table>\n",
              "<table class=\"simpletable\">\n",
              "<tr>\n",
              "     <td></td>       <th>coef</th>     <th>std err</th>      <th>z</th>      <th>P>|z|</th>  <th>[0.025</th>    <th>0.975]</th>  \n",
              "</tr>\n",
              "<tr>\n",
              "  <th>ar.L1</th>  <td>    0.8256</td> <td>    0.042</td> <td>   19.435</td> <td> 0.000</td> <td>    0.742</td> <td>    0.909</td>\n",
              "</tr>\n",
              "<tr>\n",
              "  <th>ma.L1</th>  <td>   -0.8611</td> <td>    0.038</td> <td>  -22.727</td> <td> 0.000</td> <td>   -0.935</td> <td>   -0.787</td>\n",
              "</tr>\n",
              "<tr>\n",
              "  <th>sigma2</th> <td> 3434.0705</td> <td>   37.046</td> <td>   92.698</td> <td> 0.000</td> <td> 3361.462</td> <td> 3506.679</td>\n",
              "</tr>\n",
              "</table>\n",
              "<table class=\"simpletable\">\n",
              "<tr>\n",
              "  <th>Ljung-Box (L1) (Q):</th>     <td>2.86</td> <th>  Jarque-Bera (JB):  </th> <td>3585.51</td>\n",
              "</tr>\n",
              "<tr>\n",
              "  <th>Prob(Q):</th>                <td>0.09</td> <th>  Prob(JB):          </th>  <td>0.00</td>  \n",
              "</tr>\n",
              "<tr>\n",
              "  <th>Heteroskedasticity (H):</th> <td>1.08</td> <th>  Skew:              </th>  <td>-0.32</td> \n",
              "</tr>\n",
              "<tr>\n",
              "  <th>Prob(H) (two-sided):</th>    <td>0.07</td> <th>  Kurtosis:          </th>  <td>6.68</td>  \n",
              "</tr>\n",
              "</table><br/><br/>Warnings:<br/>[1] Covariance matrix calculated using the outer product of gradients (complex-step)."
            ],
            "text/latex": "\\begin{center}\n\\begin{tabular}{lclc}\n\\toprule\n\\textbf{Dep. Variable:}          &  market\\_value   & \\textbf{  No. Observations:  } &    6168     \\\\\n\\textbf{Model:}                  &  ARIMA(1, 1, 1)  & \\textbf{  Log Likelihood     } & -33854.965  \\\\\n\\textbf{Date:}                   & Sat, 02 Sep 2023 & \\textbf{  AIC                } & 67715.929   \\\\\n\\textbf{Time:}                   &     17:41:59     & \\textbf{  BIC                } & 67736.110   \\\\\n\\textbf{Sample:}                 &    01-10-1994    & \\textbf{  HQIC               } & 67722.928   \\\\\n\\textbf{}                        &   - 08-30-2017   & \\textbf{                     } &             \\\\\n\\textbf{Covariance Type:}        &       opg        & \\textbf{                     } &             \\\\\n\\bottomrule\n\\end{tabular}\n\\begin{tabular}{lcccccc}\n                & \\textbf{coef} & \\textbf{std err} & \\textbf{z} & \\textbf{P$> |$z$|$} & \\textbf{[0.025} & \\textbf{0.975]}  \\\\\n\\midrule\n\\textbf{ar.L1}  &       0.8256  &        0.042     &    19.435  &         0.000        &        0.742    &        0.909     \\\\\n\\textbf{ma.L1}  &      -0.8611  &        0.038     &   -22.727  &         0.000        &       -0.935    &       -0.787     \\\\\n\\textbf{sigma2} &    3434.0705  &       37.046     &    92.698  &         0.000        &     3361.462    &     3506.679     \\\\\n\\bottomrule\n\\end{tabular}\n\\begin{tabular}{lclc}\n\\textbf{Ljung-Box (L1) (Q):}     & 2.86 & \\textbf{  Jarque-Bera (JB):  } & 3585.51  \\\\\n\\textbf{Prob(Q):}                & 0.09 & \\textbf{  Prob(JB):          } &   0.00   \\\\\n\\textbf{Heteroskedasticity (H):} & 1.08 & \\textbf{  Skew:              } &  -0.32   \\\\\n\\textbf{Prob(H) (two-sided):}    & 0.07 & \\textbf{  Kurtosis:          } &   6.68   \\\\\n\\bottomrule\n\\end{tabular}\n%\\caption{SARIMAX Results}\n\\end{center}\n\nWarnings: \\newline\n [1] Covariance matrix calculated using the outer product of gradients (complex-step)."
          },
          "metadata": {},
          "execution_count": 10
        }
      ]
    },
    {
      "cell_type": "markdown",
      "source": [
        "Residuals of the ARIMA(1,1,1)"
      ],
      "metadata": {
        "id": "QqM3OrTTKxN2"
      }
    },
    {
      "cell_type": "code",
      "source": [
        "df['res_ar_1_i_1_ma_1'] = results_ar_1_i_1_ma_1.resid\n",
        "sgt.plot_acf(df.res_ar_1_i_1_ma_1, zero = False, lags = 40)\n",
        "plt.title(\"ACF Of Residuals for ARIMA(1,1,1)\",size=20)\n",
        "plt.show()"
      ],
      "metadata": {
        "colab": {
          "base_uri": "https://localhost:8080/",
          "height": 465
        },
        "id": "u-bQXO9UKyyB",
        "outputId": "1f9e8c9b-6cec-4b4e-b1a4-16604b3cfeb3"
      },
      "execution_count": 11,
      "outputs": [
        {
          "output_type": "display_data",
          "data": {
            "text/plain": [
              "<Figure size 640x480 with 1 Axes>"
            ],
            "image/png": "[encoded data removed]"
          },
          "metadata": {}
        }
      ]
    },
    {
      "cell_type": "code",
      "source": [
        "df['res_ar_1_i_1_ma_1'] = results_ar_1_i_1_ma_1.resid.iloc[:]\n",
        "sgt.plot_acf(df.res_ar_1_i_1_ma_1[1:], zero = False, lags = 40)\n",
        "plt.title(\"ACF Of Residuals for ARIMA(1,1,1)\",size=20)\n",
        "plt.show()"
      ],
      "metadata": {
        "colab": {
          "base_uri": "https://localhost:8080/",
          "height": 465
        },
        "id": "1K1Vqj3sK2k3",
        "outputId": "dfe3dcc6-c993-471a-ea07-c539761d1a76"
      },
      "execution_count": 12,
      "outputs": [
        {
          "output_type": "display_data",
          "data": {
            "text/plain": [
              "<Figure size 640x480 with 1 Axes>"
            ],
            "image/png": "[encoded data removed]"
          },
          "metadata": {}
        }
      ]
    },
    {
      "cell_type": "markdown",
      "source": [
        "Higher-Lag ARIMA Models"
      ],
      "metadata": {
        "id": "0PqH7Y3tK5Jv"
      }
    },
    {
      "cell_type": "code",
      "source": [
        "model_ar_1_i_1_ma_2 = ARIMA(df.market_value, order=(1,1,2))\n",
        "results_ar_1_i_1_ma_2 = model_ar_1_i_1_ma_2.fit()\n",
        "model_ar_1_i_1_ma_3 = ARIMA(df.market_value, order=(1,1,3))\n",
        "results_ar_1_i_1_ma_3 = model_ar_1_i_1_ma_3.fit()\n",
        "model_ar_2_i_1_ma_1 = ARIMA(df.market_value, order=(2,1,1))\n",
        "results_ar_2_i_1_ma_1 = model_ar_2_i_1_ma_1.fit()\n",
        "model_ar_3_i_1_ma_1 = ARIMA(df.market_value, order=(3,1,1))\n",
        "results_ar_3_i_1_ma_1 = model_ar_3_i_1_ma_1.fit()\n",
        "model_ar_3_i_1_ma_2 = ARIMA(df.market_value, order=(3,1,2))\n",
        "results_ar_3_i_1_ma_2 = model_ar_3_i_1_ma_2.fit()"
      ],
      "metadata": {
        "id": "oVnFnS-GK5xf"
      },
      "execution_count": 13,
      "outputs": []
    },
    {
      "cell_type": "code",
      "source": [
        "print(\"ARIMA(1,1,1):  \\t LL = \", results_ar_1_i_1_ma_1.llf, \"\\t AIC = \", results_ar_1_i_1_ma_1.aic)\n",
        "print(\"ARIMA(1,1,2):  \\t LL = \", results_ar_1_i_1_ma_2.llf, \"\\t AIC = \", results_ar_1_i_1_ma_2.aic)\n",
        "print(\"ARIMA(1,1,3):  \\t LL = \", results_ar_1_i_1_ma_3.llf, \"\\t AIC = \", results_ar_1_i_1_ma_3.aic)\n",
        "print(\"ARIMA(2,1,1):  \\t LL = \", results_ar_2_i_1_ma_1.llf, \"\\t AIC = \", results_ar_2_i_1_ma_1.aic)\n",
        "print(\"ARIMA(3,1,1):  \\t LL = \", results_ar_3_i_1_ma_1.llf, \"\\t AIC = \", results_ar_3_i_1_ma_1.aic)\n",
        "print(\"ARIMA(3,1,2):  \\t LL = \", results_ar_3_i_1_ma_2.llf, \"\\t AIC = \", results_ar_3_i_1_ma_2.aic)"
      ],
      "metadata": {
        "colab": {
          "base_uri": "https://localhost:8080/"
        },
        "id": "qE6uoovvK8So",
        "outputId": "97c19169-1038-4dfb-f076-5a33f7b9892a"
      },
      "execution_count": 14,
      "outputs": [
        {
          "output_type": "stream",
          "name": "stdout",
          "text": [
            "ARIMA(1,1,1):  \t LL =  -33854.96450343367 \t AIC =  67715.92900686734\n",
            "ARIMA(1,1,2):  \t LL =  -33851.009530966956 \t AIC =  67710.01906193391\n",
            "ARIMA(1,1,3):  \t LL =  -33848.3685832282 \t AIC =  67706.7371664564\n",
            "ARIMA(2,1,1):  \t LL =  -33850.85521114078 \t AIC =  67709.71042228155\n",
            "ARIMA(3,1,1):  \t LL =  -33849.86438337822 \t AIC =  67709.72876675644\n",
            "ARIMA(3,1,2):  \t LL =  -33848.216322386346 \t AIC =  67708.43264477269\n"
          ]
        }
      ]
    },
    {
      "cell_type": "code",
      "source": [
        "print(\"\\nLLR test p-value = \" + str(LLR_test(results_ar_1_i_1_ma_2, results_ar_1_i_1_ma_3)))"
      ],
      "metadata": {
        "colab": {
          "base_uri": "https://localhost:8080/"
        },
        "id": "w5jdoZM5LM9x",
        "outputId": "a573edab-403b-41a7-86e3-81e62e6c6ea8"
      },
      "execution_count": 15,
      "outputs": [
        {
          "output_type": "stream",
          "name": "stdout",
          "text": [
            "\n",
            "LLR test p-value = 0.022\n"
          ]
        }
      ]
    },
    {
      "cell_type": "code",
      "source": [
        "df['res_ar_1_i_1_ma_3'] = results_ar_1_i_1_ma_3.resid\n",
        "sgt.plot_acf(df.res_ar_1_i_1_ma_3[1:], zero = False, lags = 40)\n",
        "plt.title(\"ACF Of Residuals for ARIMA(1,1,3)\", size=20)\n",
        "plt.show()"
      ],
      "metadata": {
        "colab": {
          "base_uri": "https://localhost:8080/",
          "height": 465
        },
        "id": "0Cr0-tDMLQwG",
        "outputId": "9df9ba59-dd34-4d5e-9cc9-a68e480fdbb4"
      },
      "execution_count": 16,
      "outputs": [
        {
          "output_type": "display_data",
          "data": {
            "text/plain": [
              "<Figure size 640x480 with 1 Axes>"
            ],
            "image/png": "[encoded data removed]"
          },
          "metadata": {}
        }
      ]
    },
    {
      "cell_type": "code",
      "source": [
        "model_ar_5_i_1_ma_1 = ARIMA(df.market_value, order=(5,1,1))\n",
        "results_ar_5_i_1_ma_1 = model_ar_5_i_1_ma_1.fit()\n",
        "model_ar_6_i_1_ma_3 = ARIMA(df.market_value, order=(6,1,3))\n",
        "results_ar_6_i_1_ma_3 = model_ar_6_i_1_ma_3.fit()"
      ],
      "metadata": {
        "id": "-izY4y5BLVcu"
      },
      "execution_count": 17,
      "outputs": []
    },
    {
      "cell_type": "code",
      "source": [
        "results_ar_5_i_1_ma_1.summary()"
      ],
      "metadata": {
        "colab": {
          "base_uri": "https://localhost:8080/",
          "height": 511
        },
        "id": "-k-_VsEqLXPn",
        "outputId": "14134fcc-035d-4f44-eb4b-2d46501f4e40"
      },
      "execution_count": 18,
      "outputs": [
        {
          "output_type": "execute_result",
          "data": {
            "text/plain": [
              "<class 'statsmodels.iolib.summary.Summary'>\n",
              "\"\"\"\n",
              "                               SARIMAX Results                                \n",
              "==============================================================================\n",
              "Dep. Variable:           market_value   No. Observations:                 6168\n",
              "Model:                 ARIMA(5, 1, 1)   Log Likelihood              -33844.133\n",
              "Date:                Sat, 02 Sep 2023   AIC                          67702.266\n",
              "Time:                        17:43:08   BIC                          67749.355\n",
              "Sample:                    01-10-1994   HQIC                         67718.596\n",
              "                         - 08-30-2017                                         \n",
              "Covariance Type:                  opg                                         \n",
              "==============================================================================\n",
              "                 coef    std err          z      P>|z|      [0.025      0.975]\n",
              "------------------------------------------------------------------------------\n",
              "ar.L1          0.3680      0.160      2.298      0.022       0.054       0.682\n",
              "ar.L2         -0.0454      0.009     -4.787      0.000      -0.064      -0.027\n",
              "ar.L3         -0.0383      0.012     -3.202      0.001      -0.062      -0.015\n",
              "ar.L4          0.0283      0.013      2.223      0.026       0.003       0.053\n",
              "ar.L5         -0.0452      0.008     -5.350      0.000      -0.062      -0.029\n",
              "ma.L1         -0.3806      0.160     -2.373      0.018      -0.695      -0.066\n",
              "sigma2      3425.3599     37.735     90.774      0.000    3351.401    3499.319\n",
              "===================================================================================\n",
              "Ljung-Box (L1) (Q):                   0.00   Jarque-Bera (JB):              3349.79\n",
              "Prob(Q):                              0.97   Prob(JB):                         0.00\n",
              "Heteroskedasticity (H):               1.10   Skew:                            -0.30\n",
              "Prob(H) (two-sided):                  0.03   Kurtosis:                         6.56\n",
              "===================================================================================\n",
              "\n",
              "Warnings:\n",
              "[1] Covariance matrix calculated using the outer product of gradients (complex-step).\n",
              "\"\"\""
            ],
            "text/html": [
              "<table class=\"simpletable\">\n",
              "<caption>SARIMAX Results</caption>\n",
              "<tr>\n",
              "  <th>Dep. Variable:</th>     <td>market_value</td>   <th>  No. Observations:  </th>    <td>6168</td>   \n",
              "</tr>\n",
              "<tr>\n",
              "  <th>Model:</th>            <td>ARIMA(5, 1, 1)</td>  <th>  Log Likelihood     </th> <td>-33844.133</td>\n",
              "</tr>\n",
              "<tr>\n",
              "  <th>Date:</th>            <td>Sat, 02 Sep 2023</td> <th>  AIC                </th>  <td>67702.266</td>\n",
              "</tr>\n",
              "<tr>\n",
              "  <th>Time:</th>                <td>17:43:08</td>     <th>  BIC                </th>  <td>67749.355</td>\n",
              "</tr>\n",
              "<tr>\n",
              "  <th>Sample:</th>             <td>01-10-1994</td>    <th>  HQIC               </th>  <td>67718.596</td>\n",
              "</tr>\n",
              "<tr>\n",
              "  <th></th>                   <td>- 08-30-2017</td>   <th>                     </th>      <td> </td>    \n",
              "</tr>\n",
              "<tr>\n",
              "  <th>Covariance Type:</th>        <td>opg</td>       <th>                     </th>      <td> </td>    \n",
              "</tr>\n",
              "</table>\n",
              "<table class=\"simpletable\">\n",
              "<tr>\n",
              "     <td></td>       <th>coef</th>     <th>std err</th>      <th>z</th>      <th>P>|z|</th>  <th>[0.025</th>    <th>0.975]</th>  \n",
              "</tr>\n",
              "<tr>\n",
              "  <th>ar.L1</th>  <td>    0.3680</td> <td>    0.160</td> <td>    2.298</td> <td> 0.022</td> <td>    0.054</td> <td>    0.682</td>\n",
              "</tr>\n",
              "<tr>\n",
              "  <th>ar.L2</th>  <td>   -0.0454</td> <td>    0.009</td> <td>   -4.787</td> <td> 0.000</td> <td>   -0.064</td> <td>   -0.027</td>\n",
              "</tr>\n",
              "<tr>\n",
              "  <th>ar.L3</th>  <td>   -0.0383</td> <td>    0.012</td> <td>   -3.202</td> <td> 0.001</td> <td>   -0.062</td> <td>   -0.015</td>\n",
              "</tr>\n",
              "<tr>\n",
              "  <th>ar.L4</th>  <td>    0.0283</td> <td>    0.013</td> <td>    2.223</td> <td> 0.026</td> <td>    0.003</td> <td>    0.053</td>\n",
              "</tr>\n",
              "<tr>\n",
              "  <th>ar.L5</th>  <td>   -0.0452</td> <td>    0.008</td> <td>   -5.350</td> <td> 0.000</td> <td>   -0.062</td> <td>   -0.029</td>\n",
              "</tr>\n",
              "<tr>\n",
              "  <th>ma.L1</th>  <td>   -0.3806</td> <td>    0.160</td> <td>   -2.373</td> <td> 0.018</td> <td>   -0.695</td> <td>   -0.066</td>\n",
              "</tr>\n",
              "<tr>\n",
              "  <th>sigma2</th> <td> 3425.3599</td> <td>   37.735</td> <td>   90.774</td> <td> 0.000</td> <td> 3351.401</td> <td> 3499.319</td>\n",
              "</tr>\n",
              "</table>\n",
              "<table class=\"simpletable\">\n",
              "<tr>\n",
              "  <th>Ljung-Box (L1) (Q):</th>     <td>0.00</td> <th>  Jarque-Bera (JB):  </th> <td>3349.79</td>\n",
              "</tr>\n",
              "<tr>\n",
              "  <th>Prob(Q):</th>                <td>0.97</td> <th>  Prob(JB):          </th>  <td>0.00</td>  \n",
              "</tr>\n",
              "<tr>\n",
              "  <th>Heteroskedasticity (H):</th> <td>1.10</td> <th>  Skew:              </th>  <td>-0.30</td> \n",
              "</tr>\n",
              "<tr>\n",
              "  <th>Prob(H) (two-sided):</th>    <td>0.03</td> <th>  Kurtosis:          </th>  <td>6.56</td>  \n",
              "</tr>\n",
              "</table><br/><br/>Warnings:<br/>[1] Covariance matrix calculated using the outer product of gradients (complex-step)."
            ],
            "text/latex": "\\begin{center}\n\\begin{tabular}{lclc}\n\\toprule\n\\textbf{Dep. Variable:}          &  market\\_value   & \\textbf{  No. Observations:  } &    6168     \\\\\n\\textbf{Model:}                  &  ARIMA(5, 1, 1)  & \\textbf{  Log Likelihood     } & -33844.133  \\\\\n\\textbf{Date:}                   & Sat, 02 Sep 2023 & \\textbf{  AIC                } & 67702.266   \\\\\n\\textbf{Time:}                   &     17:43:08     & \\textbf{  BIC                } & 67749.355   \\\\\n\\textbf{Sample:}                 &    01-10-1994    & \\textbf{  HQIC               } & 67718.596   \\\\\n\\textbf{}                        &   - 08-30-2017   & \\textbf{                     } &             \\\\\n\\textbf{Covariance Type:}        &       opg        & \\textbf{                     } &             \\\\\n\\bottomrule\n\\end{tabular}\n\\begin{tabular}{lcccccc}\n                & \\textbf{coef} & \\textbf{std err} & \\textbf{z} & \\textbf{P$> |$z$|$} & \\textbf{[0.025} & \\textbf{0.975]}  \\\\\n\\midrule\n\\textbf{ar.L1}  &       0.3680  &        0.160     &     2.298  &         0.022        &        0.054    &        0.682     \\\\\n\\textbf{ar.L2}  &      -0.0454  &        0.009     &    -4.787  &         0.000        &       -0.064    &       -0.027     \\\\\n\\textbf{ar.L3}  &      -0.0383  &        0.012     &    -3.202  &         0.001        &       -0.062    &       -0.015     \\\\\n\\textbf{ar.L4}  &       0.0283  &        0.013     &     2.223  &         0.026        &        0.003    &        0.053     \\\\\n\\textbf{ar.L5}  &      -0.0452  &        0.008     &    -5.350  &         0.000        &       -0.062    &       -0.029     \\\\\n\\textbf{ma.L1}  &      -0.3806  &        0.160     &    -2.373  &         0.018        &       -0.695    &       -0.066     \\\\\n\\textbf{sigma2} &    3425.3599  &       37.735     &    90.774  &         0.000        &     3351.401    &     3499.319     \\\\\n\\bottomrule\n\\end{tabular}\n\\begin{tabular}{lclc}\n\\textbf{Ljung-Box (L1) (Q):}     & 0.00 & \\textbf{  Jarque-Bera (JB):  } & 3349.79  \\\\\n\\textbf{Prob(Q):}                & 0.97 & \\textbf{  Prob(JB):          } &   0.00   \\\\\n\\textbf{Heteroskedasticity (H):} & 1.10 & \\textbf{  Skew:              } &  -0.30   \\\\\n\\textbf{Prob(H) (two-sided):}    & 0.03 & \\textbf{  Kurtosis:          } &   6.56   \\\\\n\\bottomrule\n\\end{tabular}\n%\\caption{SARIMAX Results}\n\\end{center}\n\nWarnings: \\newline\n [1] Covariance matrix calculated using the outer product of gradients (complex-step)."
          },
          "metadata": {},
          "execution_count": 18
        }
      ]
    },
    {
      "cell_type": "code",
      "source": [
        "print(\"ARIMA(1,1,3):  \\t LL = \", results_ar_1_i_1_ma_3.llf, \"\\t AIC = \", results_ar_1_i_1_ma_3.aic)\n",
        "print(\"ARIMA(5,1,1):  \\t LL = \", results_ar_5_i_1_ma_1.llf, \"\\t AIC = \", results_ar_5_i_1_ma_1.aic)\n",
        "print(\"ARIMA(6,1,3):  \\t LL = \", results_ar_6_i_1_ma_3.llf, \"\\t AIC = \", results_ar_6_i_1_ma_3.aic)"
      ],
      "metadata": {
        "colab": {
          "base_uri": "https://localhost:8080/"
        },
        "id": "9OlCqo9sLa0O",
        "outputId": "957359ce-7ac5-4d82-a65b-2fc8f2bcc10f"
      },
      "execution_count": 19,
      "outputs": [
        {
          "output_type": "stream",
          "name": "stdout",
          "text": [
            "ARIMA(1,1,3):  \t LL =  -33848.3685832282 \t AIC =  67706.7371664564\n",
            "ARIMA(5,1,1):  \t LL =  -33844.133220943535 \t AIC =  67702.26644188707\n",
            "ARIMA(6,1,3):  \t LL =  -33842.72403561047 \t AIC =  67705.44807122093\n"
          ]
        }
      ]
    },
    {
      "cell_type": "code",
      "source": [
        "print(\"\\nLLR test p-value = \" + str(LLR_test(results_ar_1_i_1_ma_3, results_ar_6_i_1_ma_3, DF = 5)))"
      ],
      "metadata": {
        "colab": {
          "base_uri": "https://localhost:8080/"
        },
        "id": "Ll8nnom0LidO",
        "outputId": "6200126c-4723-4673-c583-08b7984b66eb"
      },
      "execution_count": 20,
      "outputs": [
        {
          "output_type": "stream",
          "name": "stdout",
          "text": [
            "\n",
            "LLR test p-value = 0.046\n"
          ]
        }
      ]
    },
    {
      "cell_type": "code",
      "source": [
        "print(\"\\nLLR test p-value = \" + str(LLR_test(results_ar_5_i_1_ma_1, results_ar_6_i_1_ma_3, DF = 3)))"
      ],
      "metadata": {
        "colab": {
          "base_uri": "https://localhost:8080/"
        },
        "id": "N2OlLaJGLjdP",
        "outputId": "6e229818-8b52-4156-ca94-c8d8be021d66"
      },
      "execution_count": 21,
      "outputs": [
        {
          "output_type": "stream",
          "name": "stdout",
          "text": [
            "\n",
            "LLR test p-value = 0.42\n"
          ]
        }
      ]
    },
    {
      "cell_type": "code",
      "source": [
        "df['res_ar_5_i_1_ma_1'] = results_ar_5_i_1_ma_1.resid\n",
        "sgt.plot_acf(df.res_ar_5_i_1_ma_1[1:], zero = False, lags = 40)\n",
        "plt.title(\"ACF Of Residuals for ARIMA(5,1,1)\", size=20)\n",
        "plt.show()"
      ],
      "metadata": {
        "colab": {
          "base_uri": "https://localhost:8080/",
          "height": 465
        },
        "id": "zz149gp3LOAJ",
        "outputId": "975782a1-624f-482a-92b4-f02dfbaeee91"
      },
      "execution_count": 22,
      "outputs": [
        {
          "output_type": "display_data",
          "data": {
            "text/plain": [
              "<Figure size 640x480 with 1 Axes>"
            ],
            "image/png": "[encoded data removed]"
          },
          "metadata": {}
        }
      ]
    },
    {
      "cell_type": "markdown",
      "source": [
        "Models with Higher Levels of Integration"
      ],
      "metadata": {
        "id": "MnOizj4YLsd0"
      }
    },
    {
      "cell_type": "code",
      "source": [
        "df['delta_prices']=df.market_value.diff(1)"
      ],
      "metadata": {
        "id": "4P8iibMfLtH1"
      },
      "execution_count": 23,
      "outputs": []
    },
    {
      "cell_type": "code",
      "source": [
        "model_delta_ar_1_i_1_ma_1 = ARIMA(df.delta_prices[1:], order=(1,0,1))\n",
        "results_delta_ar_1_i_1_ma_1 = model_delta_ar_1_i_1_ma_1.fit()\n",
        "results_delta_ar_1_i_1_ma_1.summary()"
      ],
      "metadata": {
        "colab": {
          "base_uri": "https://localhost:8080/",
          "height": 448
        },
        "id": "F7-tXGDsLvZc",
        "outputId": "55d69ab4-1dc0-44ba-e627-e0a155d23eaf"
      },
      "execution_count": 24,
      "outputs": [
        {
          "output_type": "execute_result",
          "data": {
            "text/plain": [
              "<class 'statsmodels.iolib.summary.Summary'>\n",
              "\"\"\"\n",
              "                               SARIMAX Results                                \n",
              "==============================================================================\n",
              "Dep. Variable:           delta_prices   No. Observations:                 6167\n",
              "Model:                 ARIMA(1, 0, 1)   Log Likelihood              -33854.387\n",
              "Date:                Sat, 02 Sep 2023   AIC                          67716.773\n",
              "Time:                        17:43:34   BIC                          67743.681\n",
              "Sample:                    01-11-1994   HQIC                         67726.105\n",
              "                         - 08-30-2017                                         \n",
              "Covariance Type:                  opg                                         \n",
              "==============================================================================\n",
              "                 coef    std err          z      P>|z|      [0.025      0.975]\n",
              "------------------------------------------------------------------------------\n",
              "const          0.6377      0.660      0.966      0.334      -0.656       1.931\n",
              "ar.L1          0.8305      0.041     20.168      0.000       0.750       0.911\n",
              "ma.L1         -0.8660      0.037    -23.503      0.000      -0.938      -0.794\n",
              "sigma2      3433.4906     37.270     92.126      0.000    3360.444    3506.538\n",
              "===================================================================================\n",
              "Ljung-Box (L1) (Q):                   2.83   Jarque-Bera (JB):              3591.39\n",
              "Prob(Q):                              0.09   Prob(JB):                         0.00\n",
              "Heteroskedasticity (H):               1.08   Skew:                            -0.32\n",
              "Prob(H) (two-sided):                  0.07   Kurtosis:                         6.68\n",
              "===================================================================================\n",
              "\n",
              "Warnings:\n",
              "[1] Covariance matrix calculated using the outer product of gradients (complex-step).\n",
              "\"\"\""
            ],
            "text/html": [
              "<table class=\"simpletable\">\n",
              "<caption>SARIMAX Results</caption>\n",
              "<tr>\n",
              "  <th>Dep. Variable:</th>     <td>delta_prices</td>   <th>  No. Observations:  </th>    <td>6167</td>   \n",
              "</tr>\n",
              "<tr>\n",
              "  <th>Model:</th>            <td>ARIMA(1, 0, 1)</td>  <th>  Log Likelihood     </th> <td>-33854.387</td>\n",
              "</tr>\n",
              "<tr>\n",
              "  <th>Date:</th>            <td>Sat, 02 Sep 2023</td> <th>  AIC                </th>  <td>67716.773</td>\n",
              "</tr>\n",
              "<tr>\n",
              "  <th>Time:</th>                <td>17:43:34</td>     <th>  BIC                </th>  <td>67743.681</td>\n",
              "</tr>\n",
              "<tr>\n",
              "  <th>Sample:</th>             <td>01-11-1994</td>    <th>  HQIC               </th>  <td>67726.105</td>\n",
              "</tr>\n",
              "<tr>\n",
              "  <th></th>                   <td>- 08-30-2017</td>   <th>                     </th>      <td> </td>    \n",
              "</tr>\n",
              "<tr>\n",
              "  <th>Covariance Type:</th>        <td>opg</td>       <th>                     </th>      <td> </td>    \n",
              "</tr>\n",
              "</table>\n",
              "<table class=\"simpletable\">\n",
              "<tr>\n",
              "     <td></td>       <th>coef</th>     <th>std err</th>      <th>z</th>      <th>P>|z|</th>  <th>[0.025</th>    <th>0.975]</th>  \n",
              "</tr>\n",
              "<tr>\n",
              "  <th>const</th>  <td>    0.6377</td> <td>    0.660</td> <td>    0.966</td> <td> 0.334</td> <td>   -0.656</td> <td>    1.931</td>\n",
              "</tr>\n",
              "<tr>\n",
              "  <th>ar.L1</th>  <td>    0.8305</td> <td>    0.041</td> <td>   20.168</td> <td> 0.000</td> <td>    0.750</td> <td>    0.911</td>\n",
              "</tr>\n",
              "<tr>\n",
              "  <th>ma.L1</th>  <td>   -0.8660</td> <td>    0.037</td> <td>  -23.503</td> <td> 0.000</td> <td>   -0.938</td> <td>   -0.794</td>\n",
              "</tr>\n",
              "<tr>\n",
              "  <th>sigma2</th> <td> 3433.4906</td> <td>   37.270</td> <td>   92.126</td> <td> 0.000</td> <td> 3360.444</td> <td> 3506.538</td>\n",
              "</tr>\n",
              "</table>\n",
              "<table class=\"simpletable\">\n",
              "<tr>\n",
              "  <th>Ljung-Box (L1) (Q):</th>     <td>2.83</td> <th>  Jarque-Bera (JB):  </th> <td>3591.39</td>\n",
              "</tr>\n",
              "<tr>\n",
              "  <th>Prob(Q):</th>                <td>0.09</td> <th>  Prob(JB):          </th>  <td>0.00</td>  \n",
              "</tr>\n",
              "<tr>\n",
              "  <th>Heteroskedasticity (H):</th> <td>1.08</td> <th>  Skew:              </th>  <td>-0.32</td> \n",
              "</tr>\n",
              "<tr>\n",
              "  <th>Prob(H) (two-sided):</th>    <td>0.07</td> <th>  Kurtosis:          </th>  <td>6.68</td>  \n",
              "</tr>\n",
              "</table><br/><br/>Warnings:<br/>[1] Covariance matrix calculated using the outer product of gradients (complex-step)."
            ],
            "text/latex": "\\begin{center}\n\\begin{tabular}{lclc}\n\\toprule\n\\textbf{Dep. Variable:}          &  delta\\_prices   & \\textbf{  No. Observations:  } &    6167     \\\\\n\\textbf{Model:}                  &  ARIMA(1, 0, 1)  & \\textbf{  Log Likelihood     } & -33854.387  \\\\\n\\textbf{Date:}                   & Sat, 02 Sep 2023 & \\textbf{  AIC                } & 67716.773   \\\\\n\\textbf{Time:}                   &     17:43:34     & \\textbf{  BIC                } & 67743.681   \\\\\n\\textbf{Sample:}                 &    01-11-1994    & \\textbf{  HQIC               } & 67726.105   \\\\\n\\textbf{}                        &   - 08-30-2017   & \\textbf{                     } &             \\\\\n\\textbf{Covariance Type:}        &       opg        & \\textbf{                     } &             \\\\\n\\bottomrule\n\\end{tabular}\n\\begin{tabular}{lcccccc}\n                & \\textbf{coef} & \\textbf{std err} & \\textbf{z} & \\textbf{P$> |$z$|$} & \\textbf{[0.025} & \\textbf{0.975]}  \\\\\n\\midrule\n\\textbf{const}  &       0.6377  &        0.660     &     0.966  &         0.334        &       -0.656    &        1.931     \\\\\n\\textbf{ar.L1}  &       0.8305  &        0.041     &    20.168  &         0.000        &        0.750    &        0.911     \\\\\n\\textbf{ma.L1}  &      -0.8660  &        0.037     &   -23.503  &         0.000        &       -0.938    &       -0.794     \\\\\n\\textbf{sigma2} &    3433.4906  &       37.270     &    92.126  &         0.000        &     3360.444    &     3506.538     \\\\\n\\bottomrule\n\\end{tabular}\n\\begin{tabular}{lclc}\n\\textbf{Ljung-Box (L1) (Q):}     & 2.83 & \\textbf{  Jarque-Bera (JB):  } & 3591.39  \\\\\n\\textbf{Prob(Q):}                & 0.09 & \\textbf{  Prob(JB):          } &   0.00   \\\\\n\\textbf{Heteroskedasticity (H):} & 1.08 & \\textbf{  Skew:              } &  -0.32   \\\\\n\\textbf{Prob(H) (two-sided):}    & 0.07 & \\textbf{  Kurtosis:          } &   6.68   \\\\\n\\bottomrule\n\\end{tabular}\n%\\caption{SARIMAX Results}\n\\end{center}\n\nWarnings: \\newline\n [1] Covariance matrix calculated using the outer product of gradients (complex-step)."
          },
          "metadata": {},
          "execution_count": 24
        }
      ]
    },
    {
      "cell_type": "code",
      "source": [
        "sts.adfuller(df.delta_prices[1:])"
      ],
      "metadata": {
        "colab": {
          "base_uri": "https://localhost:8080/"
        },
        "id": "2qo5vkArLzI0",
        "outputId": "d311bb4f-64b1-4405-ee9d-fe30a36311be"
      },
      "execution_count": 25,
      "outputs": [
        {
          "output_type": "execute_result",
          "data": {
            "text/plain": [
              "(-35.348602427349505,\n",
              " 0.0,\n",
              " 5,\n",
              " 6161,\n",
              " {'1%': -3.4314118449359454,\n",
              "  '5%': -2.862009240104034,\n",
              "  '10%': -2.56701977372707},\n",
              " 67341.1848929688)"
            ]
          },
          "metadata": {},
          "execution_count": 25
        }
      ]
    },
    {
      "cell_type": "code",
      "source": [
        "model_ar_1_i_2_ma_1 = ARIMA(df.market_value, order=(1,2,1))\n",
        "results_ar_1_i_2_ma_1 = model_ar_1_i_2_ma_1.fit()\n",
        "results_ar_1_i_2_ma_1.summary()"
      ],
      "metadata": {
        "colab": {
          "base_uri": "https://localhost:8080/",
          "height": 427
        },
        "id": "FaBqOxY_L2c0",
        "outputId": "fb86dbb9-7d07-4b48-ce16-949981d9133a"
      },
      "execution_count": 26,
      "outputs": [
        {
          "output_type": "execute_result",
          "data": {
            "text/plain": [
              "<class 'statsmodels.iolib.summary.Summary'>\n",
              "\"\"\"\n",
              "                               SARIMAX Results                                \n",
              "==============================================================================\n",
              "Dep. Variable:           market_value   No. Observations:                 6168\n",
              "Model:                 ARIMA(1, 2, 1)   Log Likelihood              -33865.852\n",
              "Date:                Sat, 02 Sep 2023   AIC                          67737.704\n",
              "Time:                        17:43:45   BIC                          67757.884\n",
              "Sample:                    01-10-1994   HQIC                         67744.702\n",
              "                         - 08-30-2017                                         \n",
              "Covariance Type:                  opg                                         \n",
              "==============================================================================\n",
              "                 coef    std err          z      P>|z|      [0.025      0.975]\n",
              "------------------------------------------------------------------------------\n",
              "ar.L1         -0.0096      0.009     -1.075      0.282      -0.027       0.008\n",
              "ma.L1         -0.9999      0.006   -166.727      0.000      -1.012      -0.988\n",
              "sigma2      3447.2796     41.352     83.363      0.000    3366.230    3528.329\n",
              "===================================================================================\n",
              "Ljung-Box (L1) (Q):                   0.00   Jarque-Bera (JB):              3536.53\n",
              "Prob(Q):                              0.96   Prob(JB):                         0.00\n",
              "Heteroskedasticity (H):               1.08   Skew:                            -0.21\n",
              "Prob(H) (two-sided):                  0.08   Kurtosis:                         6.69\n",
              "===================================================================================\n",
              "\n",
              "Warnings:\n",
              "[1] Covariance matrix calculated using the outer product of gradients (complex-step).\n",
              "\"\"\""
            ],
            "text/html": [
              "<table class=\"simpletable\">\n",
              "<caption>SARIMAX Results</caption>\n",
              "<tr>\n",
              "  <th>Dep. Variable:</th>     <td>market_value</td>   <th>  No. Observations:  </th>    <td>6168</td>   \n",
              "</tr>\n",
              "<tr>\n",
              "  <th>Model:</th>            <td>ARIMA(1, 2, 1)</td>  <th>  Log Likelihood     </th> <td>-33865.852</td>\n",
              "</tr>\n",
              "<tr>\n",
              "  <th>Date:</th>            <td>Sat, 02 Sep 2023</td> <th>  AIC                </th>  <td>67737.704</td>\n",
              "</tr>\n",
              "<tr>\n",
              "  <th>Time:</th>                <td>17:43:45</td>     <th>  BIC                </th>  <td>67757.884</td>\n",
              "</tr>\n",
              "<tr>\n",
              "  <th>Sample:</th>             <td>01-10-1994</td>    <th>  HQIC               </th>  <td>67744.702</td>\n",
              "</tr>\n",
              "<tr>\n",
              "  <th></th>                   <td>- 08-30-2017</td>   <th>                     </th>      <td> </td>    \n",
              "</tr>\n",
              "<tr>\n",
              "  <th>Covariance Type:</th>        <td>opg</td>       <th>                     </th>      <td> </td>    \n",
              "</tr>\n",
              "</table>\n",
              "<table class=\"simpletable\">\n",
              "<tr>\n",
              "     <td></td>       <th>coef</th>     <th>std err</th>      <th>z</th>      <th>P>|z|</th>  <th>[0.025</th>    <th>0.975]</th>  \n",
              "</tr>\n",
              "<tr>\n",
              "  <th>ar.L1</th>  <td>   -0.0096</td> <td>    0.009</td> <td>   -1.075</td> <td> 0.282</td> <td>   -0.027</td> <td>    0.008</td>\n",
              "</tr>\n",
              "<tr>\n",
              "  <th>ma.L1</th>  <td>   -0.9999</td> <td>    0.006</td> <td> -166.727</td> <td> 0.000</td> <td>   -1.012</td> <td>   -0.988</td>\n",
              "</tr>\n",
              "<tr>\n",
              "  <th>sigma2</th> <td> 3447.2796</td> <td>   41.352</td> <td>   83.363</td> <td> 0.000</td> <td> 3366.230</td> <td> 3528.329</td>\n",
              "</tr>\n",
              "</table>\n",
              "<table class=\"simpletable\">\n",
              "<tr>\n",
              "  <th>Ljung-Box (L1) (Q):</th>     <td>0.00</td> <th>  Jarque-Bera (JB):  </th> <td>3536.53</td>\n",
              "</tr>\n",
              "<tr>\n",
              "  <th>Prob(Q):</th>                <td>0.96</td> <th>  Prob(JB):          </th>  <td>0.00</td>  \n",
              "</tr>\n",
              "<tr>\n",
              "  <th>Heteroskedasticity (H):</th> <td>1.08</td> <th>  Skew:              </th>  <td>-0.21</td> \n",
              "</tr>\n",
              "<tr>\n",
              "  <th>Prob(H) (two-sided):</th>    <td>0.08</td> <th>  Kurtosis:          </th>  <td>6.69</td>  \n",
              "</tr>\n",
              "</table><br/><br/>Warnings:<br/>[1] Covariance matrix calculated using the outer product of gradients (complex-step)."
            ],
            "text/latex": "\\begin{center}\n\\begin{tabular}{lclc}\n\\toprule\n\\textbf{Dep. Variable:}          &  market\\_value   & \\textbf{  No. Observations:  } &    6168     \\\\\n\\textbf{Model:}                  &  ARIMA(1, 2, 1)  & \\textbf{  Log Likelihood     } & -33865.852  \\\\\n\\textbf{Date:}                   & Sat, 02 Sep 2023 & \\textbf{  AIC                } & 67737.704   \\\\\n\\textbf{Time:}                   &     17:43:45     & \\textbf{  BIC                } & 67757.884   \\\\\n\\textbf{Sample:}                 &    01-10-1994    & \\textbf{  HQIC               } & 67744.702   \\\\\n\\textbf{}                        &   - 08-30-2017   & \\textbf{                     } &             \\\\\n\\textbf{Covariance Type:}        &       opg        & \\textbf{                     } &             \\\\\n\\bottomrule\n\\end{tabular}\n\\begin{tabular}{lcccccc}\n                & \\textbf{coef} & \\textbf{std err} & \\textbf{z} & \\textbf{P$> |$z$|$} & \\textbf{[0.025} & \\textbf{0.975]}  \\\\\n\\midrule\n\\textbf{ar.L1}  &      -0.0096  &        0.009     &    -1.075  &         0.282        &       -0.027    &        0.008     \\\\\n\\textbf{ma.L1}  &      -0.9999  &        0.006     &  -166.727  &         0.000        &       -1.012    &       -0.988     \\\\\n\\textbf{sigma2} &    3447.2796  &       41.352     &    83.363  &         0.000        &     3366.230    &     3528.329     \\\\\n\\bottomrule\n\\end{tabular}\n\\begin{tabular}{lclc}\n\\textbf{Ljung-Box (L1) (Q):}     & 0.00 & \\textbf{  Jarque-Bera (JB):  } & 3536.53  \\\\\n\\textbf{Prob(Q):}                & 0.96 & \\textbf{  Prob(JB):          } &   0.00   \\\\\n\\textbf{Heteroskedasticity (H):} & 1.08 & \\textbf{  Skew:              } &  -0.21   \\\\\n\\textbf{Prob(H) (two-sided):}    & 0.08 & \\textbf{  Kurtosis:          } &   6.69   \\\\\n\\bottomrule\n\\end{tabular}\n%\\caption{SARIMAX Results}\n\\end{center}\n\nWarnings: \\newline\n [1] Covariance matrix calculated using the outer product of gradients (complex-step)."
          },
          "metadata": {},
          "execution_count": 26
        }
      ]
    },
    {
      "cell_type": "code",
      "source": [
        "df['res_ar_1_i_2_ma_1'] = results_ar_1_i_2_ma_1.resid.iloc[:]\n",
        "sgt.plot_acf(df.res_ar_1_i_2_ma_1[2:], zero = False, lags = 40)\n",
        "plt.title(\"ACF Of Residuals for ARIMA(1,2,1)\",size=20)\n",
        "plt.show()"
      ],
      "metadata": {
        "colab": {
          "base_uri": "https://localhost:8080/",
          "height": 465
        },
        "id": "ChfeOmf5L4-u",
        "outputId": "f1461f7b-0e15-45b1-a3dd-e65c861d4260"
      },
      "execution_count": 27,
      "outputs": [
        {
          "output_type": "display_data",
          "data": {
            "text/plain": [
              "<Figure size 640x480 with 1 Axes>"
            ],
            "image/png": "[encoded data removed]"
          },
          "metadata": {}
        }
      ]
    },
    {
      "cell_type": "markdown",
      "source": [
        "ARIMAX"
      ],
      "metadata": {
        "id": "GgEpxnA1L8dc"
      }
    },
    {
      "cell_type": "code",
      "source": [
        "model_ar_1_i_1_ma_1_Xspx = ARIMA(df.market_value, exog = df.spx, order=(1,1,1))\n",
        "results_ar_1_i_1_ma_1_Xspx = model_ar_1_i_1_ma_1_Xspx.fit()\n",
        "results_ar_1_i_1_ma_1_Xspx.summary()"
      ],
      "metadata": {
        "colab": {
          "base_uri": "https://localhost:8080/",
          "height": 448
        },
        "id": "8jYAaKO6L7l3",
        "outputId": "57eb7844-8b6b-49fe-9cf0-7f4cbb63e0c1"
      },
      "execution_count": 28,
      "outputs": [
        {
          "output_type": "execute_result",
          "data": {
            "text/plain": [
              "<class 'statsmodels.iolib.summary.Summary'>\n",
              "\"\"\"\n",
              "                               SARIMAX Results                                \n",
              "==============================================================================\n",
              "Dep. Variable:           market_value   No. Observations:                 6168\n",
              "Model:                 ARIMA(1, 1, 1)   Log Likelihood              -32715.432\n",
              "Date:                Sat, 02 Sep 2023   AIC                          65438.863\n",
              "Time:                        17:43:58   BIC                          65465.771\n",
              "Sample:                    01-10-1994   HQIC                         65448.195\n",
              "                         - 08-30-2017                                         \n",
              "Covariance Type:                  opg                                         \n",
              "==============================================================================\n",
              "                 coef    std err          z      P>|z|      [0.025      0.975]\n",
              "------------------------------------------------------------------------------\n",
              "spx            2.5959      0.031     83.309      0.000       2.535       2.657\n",
              "ar.L1          0.2147      0.029      7.279      0.000       0.157       0.272\n",
              "ma.L1         -0.4857      0.026    -18.370      0.000      -0.538      -0.434\n",
              "sigma2      2372.9655     24.724     95.979      0.000    2324.508    2421.423\n",
              "===================================================================================\n",
              "Ljung-Box (L1) (Q):                   0.12   Jarque-Bera (JB):              4599.08\n",
              "Prob(Q):                              0.73   Prob(JB):                         0.00\n",
              "Heteroskedasticity (H):               0.77   Skew:                            -0.45\n",
              "Prob(H) (two-sided):                  0.00   Kurtosis:                         7.13\n",
              "===================================================================================\n",
              "\n",
              "Warnings:\n",
              "[1] Covariance matrix calculated using the outer product of gradients (complex-step).\n",
              "\"\"\""
            ],
            "text/html": [
              "<table class=\"simpletable\">\n",
              "<caption>SARIMAX Results</caption>\n",
              "<tr>\n",
              "  <th>Dep. Variable:</th>     <td>market_value</td>   <th>  No. Observations:  </th>    <td>6168</td>   \n",
              "</tr>\n",
              "<tr>\n",
              "  <th>Model:</th>            <td>ARIMA(1, 1, 1)</td>  <th>  Log Likelihood     </th> <td>-32715.432</td>\n",
              "</tr>\n",
              "<tr>\n",
              "  <th>Date:</th>            <td>Sat, 02 Sep 2023</td> <th>  AIC                </th>  <td>65438.863</td>\n",
              "</tr>\n",
              "<tr>\n",
              "  <th>Time:</th>                <td>17:43:58</td>     <th>  BIC                </th>  <td>65465.771</td>\n",
              "</tr>\n",
              "<tr>\n",
              "  <th>Sample:</th>             <td>01-10-1994</td>    <th>  HQIC               </th>  <td>65448.195</td>\n",
              "</tr>\n",
              "<tr>\n",
              "  <th></th>                   <td>- 08-30-2017</td>   <th>                     </th>      <td> </td>    \n",
              "</tr>\n",
              "<tr>\n",
              "  <th>Covariance Type:</th>        <td>opg</td>       <th>                     </th>      <td> </td>    \n",
              "</tr>\n",
              "</table>\n",
              "<table class=\"simpletable\">\n",
              "<tr>\n",
              "     <td></td>       <th>coef</th>     <th>std err</th>      <th>z</th>      <th>P>|z|</th>  <th>[0.025</th>    <th>0.975]</th>  \n",
              "</tr>\n",
              "<tr>\n",
              "  <th>spx</th>    <td>    2.5959</td> <td>    0.031</td> <td>   83.309</td> <td> 0.000</td> <td>    2.535</td> <td>    2.657</td>\n",
              "</tr>\n",
              "<tr>\n",
              "  <th>ar.L1</th>  <td>    0.2147</td> <td>    0.029</td> <td>    7.279</td> <td> 0.000</td> <td>    0.157</td> <td>    0.272</td>\n",
              "</tr>\n",
              "<tr>\n",
              "  <th>ma.L1</th>  <td>   -0.4857</td> <td>    0.026</td> <td>  -18.370</td> <td> 0.000</td> <td>   -0.538</td> <td>   -0.434</td>\n",
              "</tr>\n",
              "<tr>\n",
              "  <th>sigma2</th> <td> 2372.9655</td> <td>   24.724</td> <td>   95.979</td> <td> 0.000</td> <td> 2324.508</td> <td> 2421.423</td>\n",
              "</tr>\n",
              "</table>\n",
              "<table class=\"simpletable\">\n",
              "<tr>\n",
              "  <th>Ljung-Box (L1) (Q):</th>     <td>0.12</td> <th>  Jarque-Bera (JB):  </th> <td>4599.08</td>\n",
              "</tr>\n",
              "<tr>\n",
              "  <th>Prob(Q):</th>                <td>0.73</td> <th>  Prob(JB):          </th>  <td>0.00</td>  \n",
              "</tr>\n",
              "<tr>\n",
              "  <th>Heteroskedasticity (H):</th> <td>0.77</td> <th>  Skew:              </th>  <td>-0.45</td> \n",
              "</tr>\n",
              "<tr>\n",
              "  <th>Prob(H) (two-sided):</th>    <td>0.00</td> <th>  Kurtosis:          </th>  <td>7.13</td>  \n",
              "</tr>\n",
              "</table><br/><br/>Warnings:<br/>[1] Covariance matrix calculated using the outer product of gradients (complex-step)."
            ],
            "text/latex": "\\begin{center}\n\\begin{tabular}{lclc}\n\\toprule\n\\textbf{Dep. Variable:}          &  market\\_value   & \\textbf{  No. Observations:  } &    6168     \\\\\n\\textbf{Model:}                  &  ARIMA(1, 1, 1)  & \\textbf{  Log Likelihood     } & -32715.432  \\\\\n\\textbf{Date:}                   & Sat, 02 Sep 2023 & \\textbf{  AIC                } & 65438.863   \\\\\n\\textbf{Time:}                   &     17:43:58     & \\textbf{  BIC                } & 65465.771   \\\\\n\\textbf{Sample:}                 &    01-10-1994    & \\textbf{  HQIC               } & 65448.195   \\\\\n\\textbf{}                        &   - 08-30-2017   & \\textbf{                     } &             \\\\\n\\textbf{Covariance Type:}        &       opg        & \\textbf{                     } &             \\\\\n\\bottomrule\n\\end{tabular}\n\\begin{tabular}{lcccccc}\n                & \\textbf{coef} & \\textbf{std err} & \\textbf{z} & \\textbf{P$> |$z$|$} & \\textbf{[0.025} & \\textbf{0.975]}  \\\\\n\\midrule\n\\textbf{spx}    &       2.5959  &        0.031     &    83.309  &         0.000        &        2.535    &        2.657     \\\\\n\\textbf{ar.L1}  &       0.2147  &        0.029     &     7.279  &         0.000        &        0.157    &        0.272     \\\\\n\\textbf{ma.L1}  &      -0.4857  &        0.026     &   -18.370  &         0.000        &       -0.538    &       -0.434     \\\\\n\\textbf{sigma2} &    2372.9655  &       24.724     &    95.979  &         0.000        &     2324.508    &     2421.423     \\\\\n\\bottomrule\n\\end{tabular}\n\\begin{tabular}{lclc}\n\\textbf{Ljung-Box (L1) (Q):}     & 0.12 & \\textbf{  Jarque-Bera (JB):  } & 4599.08  \\\\\n\\textbf{Prob(Q):}                & 0.73 & \\textbf{  Prob(JB):          } &   0.00   \\\\\n\\textbf{Heteroskedasticity (H):} & 0.77 & \\textbf{  Skew:              } &  -0.45   \\\\\n\\textbf{Prob(H) (two-sided):}    & 0.00 & \\textbf{  Kurtosis:          } &   7.13   \\\\\n\\bottomrule\n\\end{tabular}\n%\\caption{SARIMAX Results}\n\\end{center}\n\nWarnings: \\newline\n [1] Covariance matrix calculated using the outer product of gradients (complex-step)."
          },
          "metadata": {},
          "execution_count": 28
        }
      ]
    },
    {
      "cell_type": "markdown",
      "source": [
        "SARIMAX"
      ],
      "metadata": {
        "id": "yxFOgcD8MC79"
      }
    },
    {
      "cell_type": "code",
      "source": [
        "from statsmodels.tsa.statespace.sarimax import SARIMAX"
      ],
      "metadata": {
        "id": "RveeXnd8MAIE"
      },
      "execution_count": 29,
      "outputs": []
    },
    {
      "cell_type": "code",
      "source": [
        "model_sarimax = SARIMAX(df.market_value, exog = df.spx, order=(1,0,1), seasonal_order = (2,0,1,5))\n",
        "results_sarimax = model_sarimax.fit()\n",
        "results_sarimax.summary()"
      ],
      "metadata": {
        "colab": {
          "base_uri": "https://localhost:8080/",
          "height": 511
        },
        "id": "6I4Cl42kMFZE",
        "outputId": "b495de00-409e-4565-9a82-09ff35cba422"
      },
      "execution_count": 30,
      "outputs": [
        {
          "output_type": "execute_result",
          "data": {
            "text/plain": [
              "<class 'statsmodels.iolib.summary.Summary'>\n",
              "\"\"\"\n",
              "                                     SARIMAX Results                                     \n",
              "=========================================================================================\n",
              "Dep. Variable:                      market_value   No. Observations:                 6168\n",
              "Model:             SARIMAX(1, 0, 1)x(2, 0, 1, 5)   Log Likelihood              -32730.510\n",
              "Date:                           Sat, 02 Sep 2023   AIC                          65475.020\n",
              "Time:                                   17:44:24   BIC                          65522.110\n",
              "Sample:                               01-10-1994   HQIC                         65491.350\n",
              "                                    - 08-30-2017                                         \n",
              "Covariance Type:                             opg                                         \n",
              "==============================================================================\n",
              "                 coef    std err          z      P>|z|      [0.025      0.975]\n",
              "------------------------------------------------------------------------------\n",
              "spx            2.6064      0.031     83.633      0.000       2.545       2.667\n",
              "ar.L1          0.9998      0.000   2780.952      0.000       0.999       1.000\n",
              "ma.L1         -0.2864      0.009    -32.704      0.000      -0.304      -0.269\n",
              "ar.S.L5        0.9694      0.016     59.694      0.000       0.938       1.001\n",
              "ar.S.L10       0.0298      0.010      3.133      0.002       0.011       0.048\n",
              "ma.S.L5       -0.9990      0.013    -76.206      0.000      -1.025      -0.973\n",
              "sigma2      2377.6967     25.917     91.742      0.000    2326.900    2428.493\n",
              "===================================================================================\n",
              "Ljung-Box (L1) (Q):                   1.02   Jarque-Bera (JB):              4428.44\n",
              "Prob(Q):                              0.31   Prob(JB):                         0.00\n",
              "Heteroskedasticity (H):               0.76   Skew:                            -0.41\n",
              "Prob(H) (two-sided):                  0.00   Kurtosis:                         7.07\n",
              "===================================================================================\n",
              "\n",
              "Warnings:\n",
              "[1] Covariance matrix calculated using the outer product of gradients (complex-step).\n",
              "\"\"\""
            ],
            "text/html": [
              "<table class=\"simpletable\">\n",
              "<caption>SARIMAX Results</caption>\n",
              "<tr>\n",
              "  <th>Dep. Variable:</th>           <td>market_value</td>          <th>  No. Observations:  </th>    <td>6168</td>   \n",
              "</tr>\n",
              "<tr>\n",
              "  <th>Model:</th>           <td>SARIMAX(1, 0, 1)x(2, 0, 1, 5)</td> <th>  Log Likelihood     </th> <td>-32730.510</td>\n",
              "</tr>\n",
              "<tr>\n",
              "  <th>Date:</th>                  <td>Sat, 02 Sep 2023</td>        <th>  AIC                </th>  <td>65475.020</td>\n",
              "</tr>\n",
              "<tr>\n",
              "  <th>Time:</th>                      <td>17:44:24</td>            <th>  BIC                </th>  <td>65522.110</td>\n",
              "</tr>\n",
              "<tr>\n",
              "  <th>Sample:</th>                   <td>01-10-1994</td>           <th>  HQIC               </th>  <td>65491.350</td>\n",
              "</tr>\n",
              "<tr>\n",
              "  <th></th>                         <td>- 08-30-2017</td>          <th>                     </th>      <td> </td>    \n",
              "</tr>\n",
              "<tr>\n",
              "  <th>Covariance Type:</th>              <td>opg</td>              <th>                     </th>      <td> </td>    \n",
              "</tr>\n",
              "</table>\n",
              "<table class=\"simpletable\">\n",
              "<tr>\n",
              "      <td></td>        <th>coef</th>     <th>std err</th>      <th>z</th>      <th>P>|z|</th>  <th>[0.025</th>    <th>0.975]</th>  \n",
              "</tr>\n",
              "<tr>\n",
              "  <th>spx</th>      <td>    2.6064</td> <td>    0.031</td> <td>   83.633</td> <td> 0.000</td> <td>    2.545</td> <td>    2.667</td>\n",
              "</tr>\n",
              "<tr>\n",
              "  <th>ar.L1</th>    <td>    0.9998</td> <td>    0.000</td> <td> 2780.952</td> <td> 0.000</td> <td>    0.999</td> <td>    1.000</td>\n",
              "</tr>\n",
              "<tr>\n",
              "  <th>ma.L1</th>    <td>   -0.2864</td> <td>    0.009</td> <td>  -32.704</td> <td> 0.000</td> <td>   -0.304</td> <td>   -0.269</td>\n",
              "</tr>\n",
              "<tr>\n",
              "  <th>ar.S.L5</th>  <td>    0.9694</td> <td>    0.016</td> <td>   59.694</td> <td> 0.000</td> <td>    0.938</td> <td>    1.001</td>\n",
              "</tr>\n",
              "<tr>\n",
              "  <th>ar.S.L10</th> <td>    0.0298</td> <td>    0.010</td> <td>    3.133</td> <td> 0.002</td> <td>    0.011</td> <td>    0.048</td>\n",
              "</tr>\n",
              "<tr>\n",
              "  <th>ma.S.L5</th>  <td>   -0.9990</td> <td>    0.013</td> <td>  -76.206</td> <td> 0.000</td> <td>   -1.025</td> <td>   -0.973</td>\n",
              "</tr>\n",
              "<tr>\n",
              "  <th>sigma2</th>   <td> 2377.6967</td> <td>   25.917</td> <td>   91.742</td> <td> 0.000</td> <td> 2326.900</td> <td> 2428.493</td>\n",
              "</tr>\n",
              "</table>\n",
              "<table class=\"simpletable\">\n",
              "<tr>\n",
              "  <th>Ljung-Box (L1) (Q):</th>     <td>1.02</td> <th>  Jarque-Bera (JB):  </th> <td>4428.44</td>\n",
              "</tr>\n",
              "<tr>\n",
              "  <th>Prob(Q):</th>                <td>0.31</td> <th>  Prob(JB):          </th>  <td>0.00</td>  \n",
              "</tr>\n",
              "<tr>\n",
              "  <th>Heteroskedasticity (H):</th> <td>0.76</td> <th>  Skew:              </th>  <td>-0.41</td> \n",
              "</tr>\n",
              "<tr>\n",
              "  <th>Prob(H) (two-sided):</th>    <td>0.00</td> <th>  Kurtosis:          </th>  <td>7.07</td>  \n",
              "</tr>\n",
              "</table><br/><br/>Warnings:<br/>[1] Covariance matrix calculated using the outer product of gradients (complex-step)."
            ],
            "text/latex": "\\begin{center}\n\\begin{tabular}{lclc}\n\\toprule\n\\textbf{Dep. Variable:}          &         market\\_value         & \\textbf{  No. Observations:  } &    6168     \\\\\n\\textbf{Model:}                  & SARIMAX(1, 0, 1)x(2, 0, 1, 5) & \\textbf{  Log Likelihood     } & -32730.510  \\\\\n\\textbf{Date:}                   &        Sat, 02 Sep 2023       & \\textbf{  AIC                } & 65475.020   \\\\\n\\textbf{Time:}                   &            17:44:24           & \\textbf{  BIC                } & 65522.110   \\\\\n\\textbf{Sample:}                 &           01-10-1994          & \\textbf{  HQIC               } & 65491.350   \\\\\n\\textbf{}                        &          - 08-30-2017         & \\textbf{                     } &             \\\\\n\\textbf{Covariance Type:}        &              opg              & \\textbf{                     } &             \\\\\n\\bottomrule\n\\end{tabular}\n\\begin{tabular}{lcccccc}\n                  & \\textbf{coef} & \\textbf{std err} & \\textbf{z} & \\textbf{P$> |$z$|$} & \\textbf{[0.025} & \\textbf{0.975]}  \\\\\n\\midrule\n\\textbf{spx}      &       2.6064  &        0.031     &    83.633  &         0.000        &        2.545    &        2.667     \\\\\n\\textbf{ar.L1}    &       0.9998  &        0.000     &  2780.952  &         0.000        &        0.999    &        1.000     \\\\\n\\textbf{ma.L1}    &      -0.2864  &        0.009     &   -32.704  &         0.000        &       -0.304    &       -0.269     \\\\\n\\textbf{ar.S.L5}  &       0.9694  &        0.016     &    59.694  &         0.000        &        0.938    &        1.001     \\\\\n\\textbf{ar.S.L10} &       0.0298  &        0.010     &     3.133  &         0.002        &        0.011    &        0.048     \\\\\n\\textbf{ma.S.L5}  &      -0.9990  &        0.013     &   -76.206  &         0.000        &       -1.025    &       -0.973     \\\\\n\\textbf{sigma2}   &    2377.6967  &       25.917     &    91.742  &         0.000        &     2326.900    &     2428.493     \\\\\n\\bottomrule\n\\end{tabular}\n\\begin{tabular}{lclc}\n\\textbf{Ljung-Box (L1) (Q):}     & 1.02 & \\textbf{  Jarque-Bera (JB):  } & 4428.44  \\\\\n\\textbf{Prob(Q):}                & 0.31 & \\textbf{  Prob(JB):          } &   0.00   \\\\\n\\textbf{Heteroskedasticity (H):} & 0.76 & \\textbf{  Skew:              } &  -0.41   \\\\\n\\textbf{Prob(H) (two-sided):}    & 0.00 & \\textbf{  Kurtosis:          } &   7.07   \\\\\n\\bottomrule\n\\end{tabular}\n%\\caption{SARIMAX Results}\n\\end{center}\n\nWarnings: \\newline\n [1] Covariance matrix calculated using the outer product of gradients (complex-step)."
          },
          "metadata": {},
          "execution_count": 30
        }
      ]
    }
  ]
}